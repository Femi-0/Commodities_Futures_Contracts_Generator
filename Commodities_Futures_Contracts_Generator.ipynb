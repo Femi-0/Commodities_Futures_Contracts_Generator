{
  "nbformat": 4,
  "nbformat_minor": 0,
  "metadata": {
    "colab": {
      "name": "Commodities Futures Contracts Generator.ipynb",
      "provenance": [],
      "authorship_tag": "ABX9TyPHCNJc6LNo+EpVw+yqPWHU",
      "include_colab_link": true
    },
    "kernelspec": {
      "name": "python3",
      "display_name": "Python 3"
    },
    "language_info": {
      "name": "python"
    }
  },
  "cells": [
    {
      "cell_type": "markdown",
      "metadata": {
        "id": "view-in-github",
        "colab_type": "text"
      },
      "source": [
        "<a href=\"https://colab.research.google.com/github/Femi-0/Commodities_Futures_Contracts_Generator/blob/main/Commodities_Futures_Contracts_Generator.ipynb\" target=\"_parent\"><img src=\"https://colab.research.google.com/assets/colab-badge.svg\" alt=\"Open In Colab\"/></a>"
      ]
    },
    {
      "cell_type": "markdown",
      "source": [
        "#Install and Import required libraries"
      ],
      "metadata": {
        "id": "d4GJEUoNwL12"
      }
    },
    {
      "cell_type": "code",
      "source": [
        "!pip install hvplot\n",
        "!pip install python-dotenv\n",
        "!pip install newsapi-python\n",
        "!pip install fsspec"
      ],
      "metadata": {
        "colab": {
          "base_uri": "https://localhost:8080/"
        },
        "id": "wDjaTwRymrr7",
        "outputId": "f7e2ccfa-6b1e-4860-9a0f-683ab81d6386"
      },
      "execution_count": 3,
      "outputs": [
        {
          "output_type": "stream",
          "name": "stdout",
          "text": [
            "Looking in indexes: https://pypi.org/simple, https://us-python.pkg.dev/colab-wheels/public/simple/\n",
            "Collecting hvplot\n",
            "  Downloading hvplot-0.8.0-py2.py3-none-any.whl (3.1 MB)\n",
            "\u001b[K     |████████████████████████████████| 3.1 MB 4.4 MB/s \n",
            "\u001b[?25hRequirement already satisfied: colorcet>=2 in /usr/local/lib/python3.7/dist-packages (from hvplot) (3.0.0)\n",
            "Requirement already satisfied: numpy>=1.15 in /usr/local/lib/python3.7/dist-packages (from hvplot) (1.21.6)\n",
            "Requirement already satisfied: packaging in /usr/local/lib/python3.7/dist-packages (from hvplot) (21.3)\n",
            "Requirement already satisfied: pandas in /usr/local/lib/python3.7/dist-packages (from hvplot) (1.3.5)\n",
            "Requirement already satisfied: holoviews>=1.11.0 in /usr/local/lib/python3.7/dist-packages (from hvplot) (1.14.9)\n",
            "Requirement already satisfied: bokeh>=1.0.0 in /usr/local/lib/python3.7/dist-packages (from hvplot) (2.3.3)\n",
            "Requirement already satisfied: Jinja2>=2.9 in /usr/local/lib/python3.7/dist-packages (from bokeh>=1.0.0->hvplot) (2.11.3)\n",
            "Requirement already satisfied: PyYAML>=3.10 in /usr/local/lib/python3.7/dist-packages (from bokeh>=1.0.0->hvplot) (3.13)\n",
            "Requirement already satisfied: typing-extensions>=3.7.4 in /usr/local/lib/python3.7/dist-packages (from bokeh>=1.0.0->hvplot) (4.2.0)\n",
            "Requirement already satisfied: tornado>=5.1 in /usr/local/lib/python3.7/dist-packages (from bokeh>=1.0.0->hvplot) (5.1.1)\n",
            "Requirement already satisfied: python-dateutil>=2.1 in /usr/local/lib/python3.7/dist-packages (from bokeh>=1.0.0->hvplot) (2.8.2)\n",
            "Requirement already satisfied: pillow>=7.1.0 in /usr/local/lib/python3.7/dist-packages (from bokeh>=1.0.0->hvplot) (7.1.2)\n",
            "Requirement already satisfied: pyct>=0.4.4 in /usr/local/lib/python3.7/dist-packages (from colorcet>=2->hvplot) (0.4.8)\n",
            "Requirement already satisfied: param>=1.7.0 in /usr/local/lib/python3.7/dist-packages (from colorcet>=2->hvplot) (1.12.1)\n",
            "Requirement already satisfied: pyviz-comms>=0.7.4 in /usr/local/lib/python3.7/dist-packages (from holoviews>=1.11.0->hvplot) (2.2.0)\n",
            "Requirement already satisfied: panel>=0.8.0 in /usr/local/lib/python3.7/dist-packages (from holoviews>=1.11.0->hvplot) (0.12.1)\n",
            "Requirement already satisfied: MarkupSafe>=0.23 in /usr/local/lib/python3.7/dist-packages (from Jinja2>=2.9->bokeh>=1.0.0->hvplot) (2.0.1)\n",
            "Requirement already satisfied: pyparsing!=3.0.5,>=2.0.2 in /usr/local/lib/python3.7/dist-packages (from packaging->hvplot) (3.0.9)\n",
            "Requirement already satisfied: pytz>=2017.3 in /usr/local/lib/python3.7/dist-packages (from pandas->hvplot) (2022.1)\n",
            "Requirement already satisfied: bleach in /usr/local/lib/python3.7/dist-packages (from panel>=0.8.0->holoviews>=1.11.0->hvplot) (5.0.0)\n",
            "Requirement already satisfied: requests in /usr/local/lib/python3.7/dist-packages (from panel>=0.8.0->holoviews>=1.11.0->hvplot) (2.23.0)\n",
            "Requirement already satisfied: markdown in /usr/local/lib/python3.7/dist-packages (from panel>=0.8.0->holoviews>=1.11.0->hvplot) (3.3.7)\n",
            "Requirement already satisfied: tqdm>=4.48.0 in /usr/local/lib/python3.7/dist-packages (from panel>=0.8.0->holoviews>=1.11.0->hvplot) (4.64.0)\n",
            "Requirement already satisfied: six>=1.5 in /usr/local/lib/python3.7/dist-packages (from python-dateutil>=2.1->bokeh>=1.0.0->hvplot) (1.15.0)\n",
            "Requirement already satisfied: webencodings in /usr/local/lib/python3.7/dist-packages (from bleach->panel>=0.8.0->holoviews>=1.11.0->hvplot) (0.5.1)\n",
            "Requirement already satisfied: importlib-metadata>=4.4 in /usr/local/lib/python3.7/dist-packages (from markdown->panel>=0.8.0->holoviews>=1.11.0->hvplot) (4.11.4)\n",
            "Requirement already satisfied: zipp>=0.5 in /usr/local/lib/python3.7/dist-packages (from importlib-metadata>=4.4->markdown->panel>=0.8.0->holoviews>=1.11.0->hvplot) (3.8.0)\n",
            "Requirement already satisfied: idna<3,>=2.5 in /usr/local/lib/python3.7/dist-packages (from requests->panel>=0.8.0->holoviews>=1.11.0->hvplot) (2.10)\n",
            "Requirement already satisfied: urllib3!=1.25.0,!=1.25.1,<1.26,>=1.21.1 in /usr/local/lib/python3.7/dist-packages (from requests->panel>=0.8.0->holoviews>=1.11.0->hvplot) (1.24.3)\n",
            "Requirement already satisfied: chardet<4,>=3.0.2 in /usr/local/lib/python3.7/dist-packages (from requests->panel>=0.8.0->holoviews>=1.11.0->hvplot) (3.0.4)\n",
            "Requirement already satisfied: certifi>=2017.4.17 in /usr/local/lib/python3.7/dist-packages (from requests->panel>=0.8.0->holoviews>=1.11.0->hvplot) (2022.5.18.1)\n",
            "Installing collected packages: hvplot\n",
            "Successfully installed hvplot-0.8.0\n",
            "Looking in indexes: https://pypi.org/simple, https://us-python.pkg.dev/colab-wheels/public/simple/\n",
            "Collecting python-dotenv\n",
            "  Downloading python_dotenv-0.20.0-py3-none-any.whl (17 kB)\n",
            "Installing collected packages: python-dotenv\n",
            "Successfully installed python-dotenv-0.20.0\n",
            "Looking in indexes: https://pypi.org/simple, https://us-python.pkg.dev/colab-wheels/public/simple/\n",
            "Collecting newsapi-python\n",
            "  Downloading newsapi_python-0.2.6-py2.py3-none-any.whl (7.9 kB)\n",
            "Requirement already satisfied: requests<3.0.0 in /usr/local/lib/python3.7/dist-packages (from newsapi-python) (2.23.0)\n",
            "Requirement already satisfied: certifi>=2017.4.17 in /usr/local/lib/python3.7/dist-packages (from requests<3.0.0->newsapi-python) (2022.5.18.1)\n",
            "Requirement already satisfied: chardet<4,>=3.0.2 in /usr/local/lib/python3.7/dist-packages (from requests<3.0.0->newsapi-python) (3.0.4)\n",
            "Requirement already satisfied: idna<3,>=2.5 in /usr/local/lib/python3.7/dist-packages (from requests<3.0.0->newsapi-python) (2.10)\n",
            "Requirement already satisfied: urllib3!=1.25.0,!=1.25.1,<1.26,>=1.21.1 in /usr/local/lib/python3.7/dist-packages (from requests<3.0.0->newsapi-python) (1.24.3)\n",
            "Installing collected packages: newsapi-python\n",
            "Successfully installed newsapi-python-0.2.6\n",
            "Looking in indexes: https://pypi.org/simple, https://us-python.pkg.dev/colab-wheels/public/simple/\n",
            "Collecting fsspec\n",
            "  Downloading fsspec-2022.5.0-py3-none-any.whl (140 kB)\n",
            "\u001b[K     |████████████████████████████████| 140 kB 5.1 MB/s \n",
            "\u001b[?25hInstalling collected packages: fsspec\n",
            "Successfully installed fsspec-2022.5.0\n"
          ]
        }
      ]
    },
    {
      "cell_type": "code",
      "execution_count": 38,
      "metadata": {
        "id": "nj7weIrRmhkW"
      },
      "outputs": [],
      "source": [
        "# Imports\n",
        "import os\n",
        "import pandas as pd\n",
        "import numpy as np\n",
        "import hvplot.pandas\n",
        "import matplotlib.pyplot as plt\n",
        "import nltk\n",
        "import tensorflow as tf\n",
        "import requests\n",
        "from pandas.tseries.offsets import DateOffset\n",
        "from pathlib import Path\n",
        "from dotenv import load_dotenv\n",
        "from newsapi import NewsApiClient\n",
        "from nltk.sentiment.vader import SentimentIntensityAnalyzer\n",
        "from sklearn import svm\n",
        "from sklearn.preprocessing import StandardScaler\n",
        "from sklearn.preprocessing import MinMaxScaler\n",
        "from pandas.tseries.offsets import DateOffset\n",
        "from sklearn.metrics import classification_report\n",
        "from tensorflow.keras.models import Sequential\n",
        "from tensorflow.keras.layers import LSTM, Dense, Dropout"
      ]
    },
    {
      "cell_type": "code",
      "source": [
        "# Set random seeds for reproducibility\n",
        "from numpy.random import seed\n",
        "seed(42)\n",
        "\n",
        "from tensorflow import random\n",
        "random.set_seed(42)"
      ],
      "metadata": {
        "id": "-pv55Uz_Na9v"
      },
      "execution_count": 36,
      "outputs": []
    },
    {
      "cell_type": "code",
      "source": [
        "# Load environment variables and retrieve the News API key\n",
        "load_dotenv()\n",
        "api_key = os.getenv(\"NEWS_API_KEY\")\n",
        "free_news_api_key = os.getenv(\"free_news_api\")"
      ],
      "metadata": {
        "id": "1X28Pa9maH0w"
      },
      "execution_count": 6,
      "outputs": []
    },
    {
      "cell_type": "code",
      "source": [
        "# Delete before presentation!\n",
        "print(api_key)\n",
        "print(free_news_api_key)"
      ],
      "metadata": {
        "colab": {
          "base_uri": "https://localhost:8080/"
        },
        "id": "CcbNJAj8LhtY",
        "outputId": "16064e51-c1f1-45d4-c2d9-ffe82d24b7da"
      },
      "execution_count": 7,
      "outputs": [
        {
          "output_type": "stream",
          "name": "stdout",
          "text": [
            "None\n",
            "None\n"
          ]
        }
      ]
    },
    {
      "cell_type": "markdown",
      "source": [
        "# 1. Import and prepare refrence Data:\n",
        "\n",
        "- Historical price data\n",
        "- News data"
      ],
      "metadata": {
        "id": "2eEvoDMKwFF1"
      }
    },
    {
      "cell_type": "markdown",
      "source": [
        "## 1.1 Historical price data"
      ],
      "metadata": {
        "id": "slhYJJiAQC6Z"
      }
    },
    {
      "cell_type": "code",
      "source": [
        "# function to prepare historical data for strategy\n",
        "\n",
        "def prepare_data(path,label):\n",
        "  # Import the OHLCV dataset into a Pandas Dataframe\n",
        "  ohlcv_df = pd.read_csv(\n",
        "    Path(path), \n",
        "    index_col='Date', \n",
        "    infer_datetime_format=True, \n",
        "    parse_dates=True\n",
        "    \n",
        "  )\n",
        "\n",
        "  #initiate signal\n",
        "  signals_df = pd.DataFrame()\n",
        "\n",
        "  # Filter the date index and close columns\n",
        "  signals_df[label+\"_\"+\"Close\"] = ohlcv_df.loc[:, [\"Close\"]]\n",
        "\n",
        "  #remove non-sum characters and correct formatting\n",
        "  signals_df[label+\"_\"+\"Close\"] = signals_df[label+\"_\"+\"Close\"].str.replace(\"$\",\"\",)\n",
        "  signals_df[label+\"_\"+\"Close\"]= signals_df[label+\"_\"+\"Close\"].str.replace(\",\",\"\",)\n",
        "  signals_df[label+\"_\"+\"Close\"] = signals_df[label+\"_\"+\"Close\"].astype('float')\n",
        "\n",
        "  # Use the pct_change function to generate returns from close prices\n",
        "  signals_df[label+\"_\"+\"Returns\"] = signals_df[label+\"_\"+\"Close\"].pct_change()\n",
        "\n",
        "  # Drop all NaN values from the DataFrame\n",
        "  signals_df = signals_df.dropna()\n",
        "\n",
        "  return signals_df"
      ],
      "metadata": {
        "id": "BY0xdtLAmw-C"
      },
      "execution_count": 8,
      "outputs": []
    },
    {
      "cell_type": "markdown",
      "source": [
        "## 1.2 News data"
      ],
      "metadata": {
        "id": "CFYUbyhmQUqv"
      }
    },
    {
      "cell_type": "markdown",
      "source": [
        "### 1.2.1 Collect news articles and preprocess(filter stop words etc)"
      ],
      "metadata": {
        "id": "r_OTdDX4iFrp"
      }
    },
    {
      "cell_type": "code",
      "source": [
        ""
      ],
      "metadata": {
        "id": "IA-bvhAWQYpe"
      },
      "execution_count": 8,
      "outputs": []
    },
    {
      "cell_type": "markdown",
      "source": [
        "# 2. Generating Trading Signals using:\n",
        " \n",
        "- short and long window SMA values\n",
        "- NLP sentiment analysis\n",
        "- Bollinger Bands"
      ],
      "metadata": {
        "id": "b8rPazjtwojB"
      }
    },
    {
      "cell_type": "markdown",
      "source": [
        "## 2.1 Prepare short and long window SMA signals"
      ],
      "metadata": {
        "id": "iQ6UMEqg3WL2"
      }
    },
    {
      "cell_type": "code",
      "source": [
        "# apply signals strategy\n",
        "def apply_sma_signal(signal_df,short_window,long_window,label):\n",
        "\n",
        "  # Initialize new columns\n",
        "  signal_df[label+\"_\"+'SMA_Slow'] = 0.0\n",
        "  signal_df[label+\"_\"+'SMA_Fast'] = 0.0\n",
        "  signal_df[label+\"_\"+\"Signal\"] = 0.0\n",
        "\n",
        "  # Generate the fast and slow simple moving averages (fast and slow, respectively)\n",
        "  signal_df[label+\"_\"+'SMA_Fast'] = signal_df[label+\"_\"+\"Close\"].rolling(window=short_window).mean()\n",
        "  signal_df[label+\"_\"+'SMA_Slow'] = signal_df[label+\"_\"+\"Close\"].rolling(window=long_window).mean()\n",
        "\n",
        "  signal_df = signal_df.dropna()\n",
        "\n",
        "  # When Actual Returns are greater than or equal to 0, generate signal to buy stock long\n",
        "  signal_df.loc[(signal_df[label+\"_\"+\"Returns\"] >= 0), label+\"_\"+\"Signal\"] = 1\n",
        "\n",
        "  # When Actual Returns are less than 0, generate signal to sell stock short\n",
        "  signal_df.loc[(signal_df[label+\"_\"+\"Returns\"] < 0), label+\"_\"+\"Signal\"] = -1\n",
        "\n",
        "  return signal_df\n"
      ],
      "metadata": {
        "id": "niT5H-x28IOe"
      },
      "execution_count": 15,
      "outputs": []
    },
    {
      "cell_type": "markdown",
      "source": [
        "## 2.2 Prepare Bollinger bands signals"
      ],
      "metadata": {
        "id": "KXqV0yzr4obf"
      }
    },
    {
      "cell_type": "code",
      "source": [
        "# apply bollinger strategy\n",
        "def apply_bllg_signal(signal_df,sma,label,):\n",
        "\n",
        "  # Initialize new columns\n",
        "  signal_df[label+\"_\"+'SMA'] = 0.0\n",
        "  signal_df[label+\"_\"+'ST_DV'] = 0.0\n",
        "  signal_df[label+\"_\"+'upper_bnd'] = 0.0\n",
        "  signal_df[label+\"_\"+'lower_bnd'] = 0.0\n",
        "  signal_df[label+\"_\"+\"Signal\"] = 0.0\n",
        "\n",
        "  # Generate the simple moving averages\n",
        "  signal_df[label+\"_\"+'SMA'] = signal_df[label+\"_\"+\"Close\"].rolling(window=sma).mean()\n",
        "\n",
        "  signal_df[label+\"_\"+'ST_DV'] = signal_df[label+\"_\"+\"Close\"].rolling(window=sma).std()\n",
        "\n",
        "  signal_df = signal_df.dropna()\n",
        "\n",
        "  # Generate upper-band\n",
        "  signal_df[label+\"_\"+'upper_bnd'] = signal_df[label+\"_\"+'SMA'] + signal_df[label+\"_\"+'ST_DV'] * 2\n",
        "\n",
        "  # Generate lower-band\n",
        "  signal_df[label+\"_\"+'lower_bnd'] = signal_df[label+\"_\"+'SMA'] - signal_df[label+\"_\"+'ST_DV'] * 2\n",
        "\n",
        "  # When Actual Returns are greater than or equal to 0, generate signal to buy stock long\n",
        "  signal_df.loc[(signal_df[label+\"_\"+\"Close\"] < signal_df[label+\"_\"+\"lower_bnd\"]), label+\"_\"+\"Signal\"] = 1\n",
        "\n",
        "  # When Actual Returns are less than 0, generate signal to sell stock short\n",
        "  signal_df.loc[(signal_df[label+\"_\"+\"Close\"] > signal_df[label+\"_\"+\"upper_bnd\"]), label+\"_\"+\"Signal\"] = -1\n",
        "\n",
        "  return signal_df"
      ],
      "metadata": {
        "id": "0gi9ol3rQgpR"
      },
      "execution_count": 10,
      "outputs": []
    },
    {
      "cell_type": "markdown",
      "source": [
        "## 2.3 Prepare NLP sentiment analysis signals"
      ],
      "metadata": {
        "id": "g_Q2_JFE4bd6"
      }
    },
    {
      "cell_type": "code",
      "source": [
        ""
      ],
      "metadata": {
        "id": "yUkWSxpdP7MU"
      },
      "execution_count": 9,
      "outputs": []
    },
    {
      "cell_type": "markdown",
      "source": [
        "## 2.4 Assess signals algorithim"
      ],
      "metadata": {
        "id": "0-v-EJGp7r0i"
      }
    },
    {
      "cell_type": "code",
      "source": [
        "# Evaluate trade algorithim and include trade costs\n",
        "\n",
        "def evaluate_algo(signals_df,trade_cost,label):\n",
        "  # Calculate after transaction cost on returns\n",
        "  cost_per_trade = trade_cost\n",
        "  signals_df[label+\"_\"+\"Trade_Cost\"] = signals_df[\"platinum_Signal\"] * cost_per_trade\n",
        "  signals_df[label+\"_\"+\"Return_after_Trade_Cost\"] = signals_df[label+\"_\"+\"Returns\"] - signals_df[label+\"_\"+\"Trade_Cost\"]\n",
        "  return signals_df\n",
        "\n",
        "# generate plot\n",
        "\n",
        "def generate_eval_plot(signals_df,label):\n",
        "  return(\n",
        "      display ((signals_df[label+\"_\"+\"Return_after_Trade_Cost\"]).cumsum().plot()),\n",
        "      display ((1+signals_df[label+\"_\"+\"Return_after_Trade_Cost\"]).cumprod().plot())\n",
        "  )\n",
        "\n",
        "#generate annualized sharpe ratios\n",
        "\n",
        "def get_sharpe_ratios(signals_df,label):\n",
        "  annualized_return = signals_df[label+\"_\"+\"Return_after_Trade_Cost\"].mean() * 252 \n",
        "  annualized_std = signals_df[label+\"_\"+\"Return_after_Trade_Cost\"].std() * np.sqrt(252)\n",
        "  return annualized_return/annualized_std"
      ],
      "metadata": {
        "id": "8Md1t767QhbV"
      },
      "execution_count": 11,
      "outputs": []
    },
    {
      "cell_type": "markdown",
      "source": [
        "# 3. Apply ML and deep learning methods:\n",
        "\n",
        "- Preprocess Signals df\n",
        "  - SMA Short & long windows\n",
        "  - NLP\n",
        "  - Bollinger bands\n",
        "- RNN\n",
        "- SVM\n",
        "- AdaBoost\n",
        "- Backtest methods and display portfolio returns"
      ],
      "metadata": {
        "id": "6RixwqKs5ES_"
      }
    },
    {
      "cell_type": "markdown",
      "source": [
        "## 3.1 Preprcessing Signals"
      ],
      "metadata": {
        "id": "yMnrWfsc-CYu"
      }
    },
    {
      "cell_type": "markdown",
      "source": [
        "### 3.1.1 SMA Long & Short Windows"
      ],
      "metadata": {
        "id": "t7E_xKkT-Lfo"
      }
    },
    {
      "cell_type": "code",
      "source": [
        "# signals data preprocessing\n",
        "\n",
        "def preprocess_sma_signals(signals_df,label,offset_years):\n",
        "  # Prepare the data\n",
        "\n",
        "  ## create features & target sets\n",
        "  X = signals_df[[label+\"_\"+\"SMA_Slow\",label+\"_\"+\"SMA_Fast\"]].copy()\n",
        "  y = signals_df[[label+\"_\"+\"Signal\"]].copy()\n",
        "\n",
        "  #sort ascending\n",
        "  X.sort_index(inplace=True)\n",
        "  y.sort_index(inplace=True)\n",
        "\n",
        "  #split data into train, test\n",
        "\n",
        "  # Select the start of the training period\n",
        "  training_begin = X.index.min().date()\n",
        "  # Select the ending period for the training data with an offset of 3 months\n",
        "  training_end = (X.index.min() + DateOffset(years=offset_years)).date()\n",
        "\n",
        "  # Generate the X_train and y_train DataFrames\n",
        "  X_train = X.loc[training_begin:training_end]\n",
        "  y_train = y.loc[training_begin:training_end]\n",
        "\n",
        "  # Generate the X_test and y_test DataFrames\n",
        "  X_test = X.loc[training_end:]\n",
        "  y_test = y.loc[training_end:]\n",
        "\n",
        "  #scale data\n",
        "\n",
        "  # Create a StandardScaler instance\n",
        "  scaler = MinMaxScaler()\n",
        "  \n",
        "  # Apply the scaler model to fit the X-train data\n",
        "  X_scaler = scaler.fit(X_train)\n",
        "  \n",
        "  # Transform the X_train and X_test DataFrames using the X_scaler\n",
        "  X_train_scaled = X_scaler.transform(X_train)\n",
        "  X_test_scaled = X_scaler.transform(X_test)\n",
        "\n",
        "  return (X,y,X_train,y_train,X_test,y_test,X_train_scaled,X_test_scaled)"
      ],
      "metadata": {
        "id": "a0gZkW5h-P3N"
      },
      "execution_count": 25,
      "outputs": []
    },
    {
      "cell_type": "markdown",
      "source": [
        "### 3.1.2 Bollinger Bands"
      ],
      "metadata": {
        "id": "glzLVlWORgf7"
      }
    },
    {
      "cell_type": "code",
      "source": [
        "def preprocess_bllg_signals(signals_df,label,offset_years):\n",
        "  # Prepare the data\n",
        "\n",
        "  ## create features & target sets\n",
        "  X = signals_df[[label+\"_\"+\"upper_bnd\",label+\"_\"+\"lower_bnd\"]].copy()\n",
        "  y = signals_df[[label+\"_\"+\"Signal\"]].copy()\n",
        "\n",
        "  #sort ascending\n",
        "  X.sort_index(inplace=True)\n",
        "  y.sort_index(inplace=True)\n",
        "\n",
        "  #split data into train, test\n",
        "\n",
        "  # Select the start of the training period\n",
        "  training_begin = X.index.min().date()\n",
        "  # Select the ending period for the training data with an offset of 3 months\n",
        "  training_end = (X.index.min() + DateOffset(years=offset_years)).date()\n",
        "\n",
        "  # Generate the X_train and y_train DataFrames\n",
        "  X_train = X.loc[training_begin:training_end]\n",
        "  y_train = y.loc[training_begin:training_end]\n",
        "\n",
        "  # Generate the X_test and y_test DataFrames\n",
        "  X_test = X.loc[training_end:]\n",
        "  y_test = y.loc[training_end:]\n",
        "\n",
        "  #scale data\n",
        "\n",
        "  # Create a StandardScaler instance\n",
        "  scaler = MinMaxScaler()\n",
        "  \n",
        "  # Apply the scaler model to fit the X-train data\n",
        "  X_scaler = scaler.fit(X_train)\n",
        "  \n",
        "  # Transform the X_train and X_test DataFrames using the X_scaler\n",
        "  X_train_scaled = X_scaler.transform(X_train)\n",
        "  X_test_scaled = X_scaler.transform(X_test)\n",
        "\n",
        "  return (X,y,X_train,y_train,X_test,y_test,X_train_scaled,X_test_scaled)"
      ],
      "metadata": {
        "id": "STV9pXAkRq2Y"
      },
      "execution_count": 35,
      "outputs": []
    },
    {
      "cell_type": "markdown",
      "source": [
        "### 3.1.3 NLP Sentiments"
      ],
      "metadata": {
        "id": "O_7jlqyySEnU"
      }
    },
    {
      "cell_type": "code",
      "source": [
        ""
      ],
      "metadata": {
        "id": "al65IXcGP4zQ"
      },
      "execution_count": 5,
      "outputs": []
    },
    {
      "cell_type": "markdown",
      "source": [
        "## 3.2 Apply SVM for prediction"
      ],
      "metadata": {
        "id": "NfFCLsX77UTc"
      }
    },
    {
      "cell_type": "code",
      "source": [
        ""
      ],
      "metadata": {
        "id": "ILMsLXTZ1iNo"
      },
      "execution_count": 5,
      "outputs": []
    },
    {
      "cell_type": "markdown",
      "source": [
        "## 3.3 Apply AdaBoost for prediction"
      ],
      "metadata": {
        "id": "Qg-VXuav7UdD"
      }
    },
    {
      "cell_type": "code",
      "source": [
        ""
      ],
      "metadata": {
        "id": "F2MNPtxJWZCw"
      },
      "execution_count": null,
      "outputs": []
    },
    {
      "cell_type": "markdown",
      "source": [
        "## 3.4 Apply RNN for prediction"
      ],
      "metadata": {
        "id": "HAZxIp9R7PqT"
      }
    },
    {
      "cell_type": "code",
      "source": [
        ""
      ],
      "metadata": {
        "id": "o1re07ixP2uz"
      },
      "execution_count": 5,
      "outputs": []
    },
    {
      "cell_type": "markdown",
      "source": [
        "## 3.5 Backtest methods and display portfolio returns"
      ],
      "metadata": {
        "id": "tehdFxIQ7jqs"
      }
    },
    {
      "cell_type": "code",
      "source": [
        ""
      ],
      "metadata": {
        "id": "b66YCQHvvO_c"
      },
      "execution_count": 5,
      "outputs": []
    },
    {
      "cell_type": "markdown",
      "source": [
        "---\n",
        "\n",
        "# End of notebook\n",
        "\n",
        "---"
      ],
      "metadata": {
        "id": "eyWeJhh-4x5Z"
      }
    },
    {
      "cell_type": "markdown",
      "source": [
        "---\n",
        "# Live area below\n",
        "---"
      ],
      "metadata": {
        "id": "e7jJMHADOSh1"
      }
    },
    {
      "cell_type": "code",
      "source": [
        "platinum_df = prepare_data(\"/content/Historical_commodities_data/AmarkPriceHistory_platinum.csv\",\"platinum\")\n",
        "sma_platinum_df = apply_sma_signal(platinum_df,10,80,\"platinum\")\n",
        "bllg_platinum_df = apply_bllg_signal(platinum_df,20,\"platinum\")\n",
        "display(sma_platinum_df.head())\n",
        "display(bllg_platinum_df.head())"
      ],
      "metadata": {
        "colab": {
          "base_uri": "https://localhost:8080/",
          "height": 622
        },
        "id": "71_NwTjZOVrg",
        "outputId": "954891cd-cd04-4dad-dd9e-9504e9625453"
      },
      "execution_count": 18,
      "outputs": [
        {
          "output_type": "stream",
          "name": "stderr",
          "text": [
            "/usr/local/lib/python3.7/dist-packages/ipykernel_launcher.py:19: FutureWarning: The default value of regex will change from True to False in a future version. In addition, single character regular expressions will *not* be treated as literal strings when regex=True.\n",
            "/usr/local/lib/python3.7/dist-packages/ipykernel_launcher.py:19: SettingWithCopyWarning: \n",
            "A value is trying to be set on a copy of a slice from a DataFrame.\n",
            "Try using .loc[row_indexer,col_indexer] = value instead\n",
            "\n",
            "See the caveats in the documentation: https://pandas.pydata.org/pandas-docs/stable/user_guide/indexing.html#returning-a-view-versus-a-copy\n",
            "/usr/local/lib/python3.7/dist-packages/ipykernel_launcher.py:22: SettingWithCopyWarning: \n",
            "A value is trying to be set on a copy of a slice from a DataFrame.\n",
            "Try using .loc[row_indexer,col_indexer] = value instead\n",
            "\n",
            "See the caveats in the documentation: https://pandas.pydata.org/pandas-docs/stable/user_guide/indexing.html#returning-a-view-versus-a-copy\n",
            "/usr/local/lib/python3.7/dist-packages/pandas/core/indexing.py:1732: SettingWithCopyWarning: \n",
            "A value is trying to be set on a copy of a slice from a DataFrame\n",
            "\n",
            "See the caveats in the documentation: https://pandas.pydata.org/pandas-docs/stable/user_guide/indexing.html#returning-a-view-versus-a-copy\n",
            "  self._setitem_single_block(indexer, value, name)\n",
            "/usr/local/lib/python3.7/dist-packages/pandas/core/indexing.py:723: SettingWithCopyWarning: \n",
            "A value is trying to be set on a copy of a slice from a DataFrame\n",
            "\n",
            "See the caveats in the documentation: https://pandas.pydata.org/pandas-docs/stable/user_guide/indexing.html#returning-a-view-versus-a-copy\n",
            "  iloc._setitem_with_indexer(indexer, value, self.name)\n"
          ]
        },
        {
          "output_type": "display_data",
          "data": {
            "text/plain": [
              "            platinum_Close  platinum_Returns  platinum_SMA  platinum_ST_DV  \\\n",
              "Date                                                                         \n",
              "2022-05-11          996.91          0.051548      975.3085       30.586536   \n",
              "2022-05-10          967.85         -0.029150      972.7010       28.743425   \n",
              "2022-05-09          963.21         -0.004794      969.0115       24.474450   \n",
              "2022-05-06          965.75          0.002637      966.1985       21.056955   \n",
              "2022-05-05          985.75          0.020709      964.0360       15.843339   \n",
              "\n",
              "            platinum_upper_bnd  platinum_lower_bnd  platinum_Signal  \n",
              "Date                                                                 \n",
              "2022-05-11         1036.481572          914.135428              0.0  \n",
              "2022-05-10         1030.187851          915.214149              0.0  \n",
              "2022-05-09         1017.960399          920.062601              0.0  \n",
              "2022-05-06         1008.312411          924.084589              0.0  \n",
              "2022-05-05          995.722679          932.349321              0.0  "
            ],
            "text/html": [
              "\n",
              "  <div id=\"df-985cef5e-716f-4a4a-b0cb-2337377ac349\">\n",
              "    <div class=\"colab-df-container\">\n",
              "      <div>\n",
              "<style scoped>\n",
              "    .dataframe tbody tr th:only-of-type {\n",
              "        vertical-align: middle;\n",
              "    }\n",
              "\n",
              "    .dataframe tbody tr th {\n",
              "        vertical-align: top;\n",
              "    }\n",
              "\n",
              "    .dataframe thead th {\n",
              "        text-align: right;\n",
              "    }\n",
              "</style>\n",
              "<table border=\"1\" class=\"dataframe\">\n",
              "  <thead>\n",
              "    <tr style=\"text-align: right;\">\n",
              "      <th></th>\n",
              "      <th>platinum_Close</th>\n",
              "      <th>platinum_Returns</th>\n",
              "      <th>platinum_SMA</th>\n",
              "      <th>platinum_ST_DV</th>\n",
              "      <th>platinum_upper_bnd</th>\n",
              "      <th>platinum_lower_bnd</th>\n",
              "      <th>platinum_Signal</th>\n",
              "    </tr>\n",
              "    <tr>\n",
              "      <th>Date</th>\n",
              "      <th></th>\n",
              "      <th></th>\n",
              "      <th></th>\n",
              "      <th></th>\n",
              "      <th></th>\n",
              "      <th></th>\n",
              "      <th></th>\n",
              "    </tr>\n",
              "  </thead>\n",
              "  <tbody>\n",
              "    <tr>\n",
              "      <th>2022-05-11</th>\n",
              "      <td>996.91</td>\n",
              "      <td>0.051548</td>\n",
              "      <td>975.3085</td>\n",
              "      <td>30.586536</td>\n",
              "      <td>1036.481572</td>\n",
              "      <td>914.135428</td>\n",
              "      <td>0.0</td>\n",
              "    </tr>\n",
              "    <tr>\n",
              "      <th>2022-05-10</th>\n",
              "      <td>967.85</td>\n",
              "      <td>-0.029150</td>\n",
              "      <td>972.7010</td>\n",
              "      <td>28.743425</td>\n",
              "      <td>1030.187851</td>\n",
              "      <td>915.214149</td>\n",
              "      <td>0.0</td>\n",
              "    </tr>\n",
              "    <tr>\n",
              "      <th>2022-05-09</th>\n",
              "      <td>963.21</td>\n",
              "      <td>-0.004794</td>\n",
              "      <td>969.0115</td>\n",
              "      <td>24.474450</td>\n",
              "      <td>1017.960399</td>\n",
              "      <td>920.062601</td>\n",
              "      <td>0.0</td>\n",
              "    </tr>\n",
              "    <tr>\n",
              "      <th>2022-05-06</th>\n",
              "      <td>965.75</td>\n",
              "      <td>0.002637</td>\n",
              "      <td>966.1985</td>\n",
              "      <td>21.056955</td>\n",
              "      <td>1008.312411</td>\n",
              "      <td>924.084589</td>\n",
              "      <td>0.0</td>\n",
              "    </tr>\n",
              "    <tr>\n",
              "      <th>2022-05-05</th>\n",
              "      <td>985.75</td>\n",
              "      <td>0.020709</td>\n",
              "      <td>964.0360</td>\n",
              "      <td>15.843339</td>\n",
              "      <td>995.722679</td>\n",
              "      <td>932.349321</td>\n",
              "      <td>0.0</td>\n",
              "    </tr>\n",
              "  </tbody>\n",
              "</table>\n",
              "</div>\n",
              "      <button class=\"colab-df-convert\" onclick=\"convertToInteractive('df-985cef5e-716f-4a4a-b0cb-2337377ac349')\"\n",
              "              title=\"Convert this dataframe to an interactive table.\"\n",
              "              style=\"display:none;\">\n",
              "        \n",
              "  <svg xmlns=\"http://www.w3.org/2000/svg\" height=\"24px\"viewBox=\"0 0 24 24\"\n",
              "       width=\"24px\">\n",
              "    <path d=\"M0 0h24v24H0V0z\" fill=\"none\"/>\n",
              "    <path d=\"M18.56 5.44l.94 2.06.94-2.06 2.06-.94-2.06-.94-.94-2.06-.94 2.06-2.06.94zm-11 1L8.5 8.5l.94-2.06 2.06-.94-2.06-.94L8.5 2.5l-.94 2.06-2.06.94zm10 10l.94 2.06.94-2.06 2.06-.94-2.06-.94-.94-2.06-.94 2.06-2.06.94z\"/><path d=\"M17.41 7.96l-1.37-1.37c-.4-.4-.92-.59-1.43-.59-.52 0-1.04.2-1.43.59L10.3 9.45l-7.72 7.72c-.78.78-.78 2.05 0 2.83L4 21.41c.39.39.9.59 1.41.59.51 0 1.02-.2 1.41-.59l7.78-7.78 2.81-2.81c.8-.78.8-2.07 0-2.86zM5.41 20L4 18.59l7.72-7.72 1.47 1.35L5.41 20z\"/>\n",
              "  </svg>\n",
              "      </button>\n",
              "      \n",
              "  <style>\n",
              "    .colab-df-container {\n",
              "      display:flex;\n",
              "      flex-wrap:wrap;\n",
              "      gap: 12px;\n",
              "    }\n",
              "\n",
              "    .colab-df-convert {\n",
              "      background-color: #E8F0FE;\n",
              "      border: none;\n",
              "      border-radius: 50%;\n",
              "      cursor: pointer;\n",
              "      display: none;\n",
              "      fill: #1967D2;\n",
              "      height: 32px;\n",
              "      padding: 0 0 0 0;\n",
              "      width: 32px;\n",
              "    }\n",
              "\n",
              "    .colab-df-convert:hover {\n",
              "      background-color: #E2EBFA;\n",
              "      box-shadow: 0px 1px 2px rgba(60, 64, 67, 0.3), 0px 1px 3px 1px rgba(60, 64, 67, 0.15);\n",
              "      fill: #174EA6;\n",
              "    }\n",
              "\n",
              "    [theme=dark] .colab-df-convert {\n",
              "      background-color: #3B4455;\n",
              "      fill: #D2E3FC;\n",
              "    }\n",
              "\n",
              "    [theme=dark] .colab-df-convert:hover {\n",
              "      background-color: #434B5C;\n",
              "      box-shadow: 0px 1px 3px 1px rgba(0, 0, 0, 0.15);\n",
              "      filter: drop-shadow(0px 1px 2px rgba(0, 0, 0, 0.3));\n",
              "      fill: #FFFFFF;\n",
              "    }\n",
              "  </style>\n",
              "\n",
              "      <script>\n",
              "        const buttonEl =\n",
              "          document.querySelector('#df-985cef5e-716f-4a4a-b0cb-2337377ac349 button.colab-df-convert');\n",
              "        buttonEl.style.display =\n",
              "          google.colab.kernel.accessAllowed ? 'block' : 'none';\n",
              "\n",
              "        async function convertToInteractive(key) {\n",
              "          const element = document.querySelector('#df-985cef5e-716f-4a4a-b0cb-2337377ac349');\n",
              "          const dataTable =\n",
              "            await google.colab.kernel.invokeFunction('convertToInteractive',\n",
              "                                                     [key], {});\n",
              "          if (!dataTable) return;\n",
              "\n",
              "          const docLinkHtml = 'Like what you see? Visit the ' +\n",
              "            '<a target=\"_blank\" href=https://colab.research.google.com/notebooks/data_table.ipynb>data table notebook</a>'\n",
              "            + ' to learn more about interactive tables.';\n",
              "          element.innerHTML = '';\n",
              "          dataTable['output_type'] = 'display_data';\n",
              "          await google.colab.output.renderOutput(dataTable, element);\n",
              "          const docLink = document.createElement('div');\n",
              "          docLink.innerHTML = docLinkHtml;\n",
              "          element.appendChild(docLink);\n",
              "        }\n",
              "      </script>\n",
              "    </div>\n",
              "  </div>\n",
              "  "
            ]
          },
          "metadata": {}
        }
      ]
    },
    {
      "cell_type": "code",
      "source": [
        "sma_platinum_df.head()"
      ],
      "metadata": {
        "colab": {
          "base_uri": "https://localhost:8080/",
          "height": 238
        },
        "id": "puZygJQ5NQD4",
        "outputId": "d6daba16-6b84-4539-b228-bdbb3ceb2fa3"
      },
      "execution_count": 19,
      "outputs": [
        {
          "output_type": "execute_result",
          "data": {
            "text/plain": [
              "            platinum_Close  platinum_Returns  platinum_SMA_Slow  \\\n",
              "Date                                                              \n",
              "2022-02-16         1066.92         -0.025181        1006.289250   \n",
              "2022-02-15         1030.09         -0.034520        1006.415375   \n",
              "2022-02-14         1034.91          0.004679        1006.389250   \n",
              "2022-02-11         1037.38          0.002387        1006.581375   \n",
              "2022-02-10         1031.67         -0.005504        1006.614750   \n",
              "\n",
              "            platinum_SMA_Fast  platinum_Signal  \n",
              "Date                                            \n",
              "2022-02-16           1073.754             -1.0  \n",
              "2022-02-15           1070.820             -1.0  \n",
              "2022-02-14           1069.326              1.0  \n",
              "2022-02-11           1066.804              1.0  \n",
              "2022-02-10           1063.599             -1.0  "
            ],
            "text/html": [
              "\n",
              "  <div id=\"df-64600216-0378-4f9b-853e-6290fc4b54c3\">\n",
              "    <div class=\"colab-df-container\">\n",
              "      <div>\n",
              "<style scoped>\n",
              "    .dataframe tbody tr th:only-of-type {\n",
              "        vertical-align: middle;\n",
              "    }\n",
              "\n",
              "    .dataframe tbody tr th {\n",
              "        vertical-align: top;\n",
              "    }\n",
              "\n",
              "    .dataframe thead th {\n",
              "        text-align: right;\n",
              "    }\n",
              "</style>\n",
              "<table border=\"1\" class=\"dataframe\">\n",
              "  <thead>\n",
              "    <tr style=\"text-align: right;\">\n",
              "      <th></th>\n",
              "      <th>platinum_Close</th>\n",
              "      <th>platinum_Returns</th>\n",
              "      <th>platinum_SMA_Slow</th>\n",
              "      <th>platinum_SMA_Fast</th>\n",
              "      <th>platinum_Signal</th>\n",
              "    </tr>\n",
              "    <tr>\n",
              "      <th>Date</th>\n",
              "      <th></th>\n",
              "      <th></th>\n",
              "      <th></th>\n",
              "      <th></th>\n",
              "      <th></th>\n",
              "    </tr>\n",
              "  </thead>\n",
              "  <tbody>\n",
              "    <tr>\n",
              "      <th>2022-02-16</th>\n",
              "      <td>1066.92</td>\n",
              "      <td>-0.025181</td>\n",
              "      <td>1006.289250</td>\n",
              "      <td>1073.754</td>\n",
              "      <td>-1.0</td>\n",
              "    </tr>\n",
              "    <tr>\n",
              "      <th>2022-02-15</th>\n",
              "      <td>1030.09</td>\n",
              "      <td>-0.034520</td>\n",
              "      <td>1006.415375</td>\n",
              "      <td>1070.820</td>\n",
              "      <td>-1.0</td>\n",
              "    </tr>\n",
              "    <tr>\n",
              "      <th>2022-02-14</th>\n",
              "      <td>1034.91</td>\n",
              "      <td>0.004679</td>\n",
              "      <td>1006.389250</td>\n",
              "      <td>1069.326</td>\n",
              "      <td>1.0</td>\n",
              "    </tr>\n",
              "    <tr>\n",
              "      <th>2022-02-11</th>\n",
              "      <td>1037.38</td>\n",
              "      <td>0.002387</td>\n",
              "      <td>1006.581375</td>\n",
              "      <td>1066.804</td>\n",
              "      <td>1.0</td>\n",
              "    </tr>\n",
              "    <tr>\n",
              "      <th>2022-02-10</th>\n",
              "      <td>1031.67</td>\n",
              "      <td>-0.005504</td>\n",
              "      <td>1006.614750</td>\n",
              "      <td>1063.599</td>\n",
              "      <td>-1.0</td>\n",
              "    </tr>\n",
              "  </tbody>\n",
              "</table>\n",
              "</div>\n",
              "      <button class=\"colab-df-convert\" onclick=\"convertToInteractive('df-64600216-0378-4f9b-853e-6290fc4b54c3')\"\n",
              "              title=\"Convert this dataframe to an interactive table.\"\n",
              "              style=\"display:none;\">\n",
              "        \n",
              "  <svg xmlns=\"http://www.w3.org/2000/svg\" height=\"24px\"viewBox=\"0 0 24 24\"\n",
              "       width=\"24px\">\n",
              "    <path d=\"M0 0h24v24H0V0z\" fill=\"none\"/>\n",
              "    <path d=\"M18.56 5.44l.94 2.06.94-2.06 2.06-.94-2.06-.94-.94-2.06-.94 2.06-2.06.94zm-11 1L8.5 8.5l.94-2.06 2.06-.94-2.06-.94L8.5 2.5l-.94 2.06-2.06.94zm10 10l.94 2.06.94-2.06 2.06-.94-2.06-.94-.94-2.06-.94 2.06-2.06.94z\"/><path d=\"M17.41 7.96l-1.37-1.37c-.4-.4-.92-.59-1.43-.59-.52 0-1.04.2-1.43.59L10.3 9.45l-7.72 7.72c-.78.78-.78 2.05 0 2.83L4 21.41c.39.39.9.59 1.41.59.51 0 1.02-.2 1.41-.59l7.78-7.78 2.81-2.81c.8-.78.8-2.07 0-2.86zM5.41 20L4 18.59l7.72-7.72 1.47 1.35L5.41 20z\"/>\n",
              "  </svg>\n",
              "      </button>\n",
              "      \n",
              "  <style>\n",
              "    .colab-df-container {\n",
              "      display:flex;\n",
              "      flex-wrap:wrap;\n",
              "      gap: 12px;\n",
              "    }\n",
              "\n",
              "    .colab-df-convert {\n",
              "      background-color: #E8F0FE;\n",
              "      border: none;\n",
              "      border-radius: 50%;\n",
              "      cursor: pointer;\n",
              "      display: none;\n",
              "      fill: #1967D2;\n",
              "      height: 32px;\n",
              "      padding: 0 0 0 0;\n",
              "      width: 32px;\n",
              "    }\n",
              "\n",
              "    .colab-df-convert:hover {\n",
              "      background-color: #E2EBFA;\n",
              "      box-shadow: 0px 1px 2px rgba(60, 64, 67, 0.3), 0px 1px 3px 1px rgba(60, 64, 67, 0.15);\n",
              "      fill: #174EA6;\n",
              "    }\n",
              "\n",
              "    [theme=dark] .colab-df-convert {\n",
              "      background-color: #3B4455;\n",
              "      fill: #D2E3FC;\n",
              "    }\n",
              "\n",
              "    [theme=dark] .colab-df-convert:hover {\n",
              "      background-color: #434B5C;\n",
              "      box-shadow: 0px 1px 3px 1px rgba(0, 0, 0, 0.15);\n",
              "      filter: drop-shadow(0px 1px 2px rgba(0, 0, 0, 0.3));\n",
              "      fill: #FFFFFF;\n",
              "    }\n",
              "  </style>\n",
              "\n",
              "      <script>\n",
              "        const buttonEl =\n",
              "          document.querySelector('#df-64600216-0378-4f9b-853e-6290fc4b54c3 button.colab-df-convert');\n",
              "        buttonEl.style.display =\n",
              "          google.colab.kernel.accessAllowed ? 'block' : 'none';\n",
              "\n",
              "        async function convertToInteractive(key) {\n",
              "          const element = document.querySelector('#df-64600216-0378-4f9b-853e-6290fc4b54c3');\n",
              "          const dataTable =\n",
              "            await google.colab.kernel.invokeFunction('convertToInteractive',\n",
              "                                                     [key], {});\n",
              "          if (!dataTable) return;\n",
              "\n",
              "          const docLinkHtml = 'Like what you see? Visit the ' +\n",
              "            '<a target=\"_blank\" href=https://colab.research.google.com/notebooks/data_table.ipynb>data table notebook</a>'\n",
              "            + ' to learn more about interactive tables.';\n",
              "          element.innerHTML = '';\n",
              "          dataTable['output_type'] = 'display_data';\n",
              "          await google.colab.output.renderOutput(dataTable, element);\n",
              "          const docLink = document.createElement('div');\n",
              "          docLink.innerHTML = docLinkHtml;\n",
              "          element.appendChild(docLink);\n",
              "        }\n",
              "      </script>\n",
              "    </div>\n",
              "  </div>\n",
              "  "
            ]
          },
          "metadata": {},
          "execution_count": 19
        }
      ]
    },
    {
      "cell_type": "code",
      "source": [
        "X,y,X_train,y_train,X_test,y_test,X_train_scaled,X_test_scaled = preprocess_sma_signals(sma_platinum_df,\"platinum\",7)"
      ],
      "metadata": {
        "id": "4c2Ad5iaLfpt"
      },
      "execution_count": 41,
      "outputs": []
    },
    {
      "cell_type": "code",
      "source": [
        "X,y,X_train,y_train,X_test,y_test,X_train_scaled,X_test_scaled = preprocess_bllg_signals(bllg_platinum_df,\"platinum\",7)"
      ],
      "metadata": {
        "id": "HBHmgeRTUZED"
      },
      "execution_count": null,
      "outputs": []
    },
    {
      "cell_type": "code",
      "source": [
        "X[:5]"
      ],
      "metadata": {
        "colab": {
          "base_uri": "https://localhost:8080/",
          "height": 238
        },
        "id": "emW24p1SeWQM",
        "outputId": "ec981969-3517-45a7-ddf8-3a0cb5bd64a3"
      },
      "execution_count": 42,
      "outputs": [
        {
          "output_type": "execute_result",
          "data": {
            "text/plain": [
              "            platinum_SMA_Slow  platinum_SMA_Fast\n",
              "Date                                            \n",
              "2012-06-08         1487.79375            1463.95\n",
              "2012-06-11         1490.66250            1464.25\n",
              "2012-06-12         1493.63125            1464.70\n",
              "2012-06-13         1496.40000            1461.90\n",
              "2012-06-14         1499.19375            1456.60"
            ],
            "text/html": [
              "\n",
              "  <div id=\"df-70f17441-68d2-4d39-b2c3-871cea70e06b\">\n",
              "    <div class=\"colab-df-container\">\n",
              "      <div>\n",
              "<style scoped>\n",
              "    .dataframe tbody tr th:only-of-type {\n",
              "        vertical-align: middle;\n",
              "    }\n",
              "\n",
              "    .dataframe tbody tr th {\n",
              "        vertical-align: top;\n",
              "    }\n",
              "\n",
              "    .dataframe thead th {\n",
              "        text-align: right;\n",
              "    }\n",
              "</style>\n",
              "<table border=\"1\" class=\"dataframe\">\n",
              "  <thead>\n",
              "    <tr style=\"text-align: right;\">\n",
              "      <th></th>\n",
              "      <th>platinum_SMA_Slow</th>\n",
              "      <th>platinum_SMA_Fast</th>\n",
              "    </tr>\n",
              "    <tr>\n",
              "      <th>Date</th>\n",
              "      <th></th>\n",
              "      <th></th>\n",
              "    </tr>\n",
              "  </thead>\n",
              "  <tbody>\n",
              "    <tr>\n",
              "      <th>2012-06-08</th>\n",
              "      <td>1487.79375</td>\n",
              "      <td>1463.95</td>\n",
              "    </tr>\n",
              "    <tr>\n",
              "      <th>2012-06-11</th>\n",
              "      <td>1490.66250</td>\n",
              "      <td>1464.25</td>\n",
              "    </tr>\n",
              "    <tr>\n",
              "      <th>2012-06-12</th>\n",
              "      <td>1493.63125</td>\n",
              "      <td>1464.70</td>\n",
              "    </tr>\n",
              "    <tr>\n",
              "      <th>2012-06-13</th>\n",
              "      <td>1496.40000</td>\n",
              "      <td>1461.90</td>\n",
              "    </tr>\n",
              "    <tr>\n",
              "      <th>2012-06-14</th>\n",
              "      <td>1499.19375</td>\n",
              "      <td>1456.60</td>\n",
              "    </tr>\n",
              "  </tbody>\n",
              "</table>\n",
              "</div>\n",
              "      <button class=\"colab-df-convert\" onclick=\"convertToInteractive('df-70f17441-68d2-4d39-b2c3-871cea70e06b')\"\n",
              "              title=\"Convert this dataframe to an interactive table.\"\n",
              "              style=\"display:none;\">\n",
              "        \n",
              "  <svg xmlns=\"http://www.w3.org/2000/svg\" height=\"24px\"viewBox=\"0 0 24 24\"\n",
              "       width=\"24px\">\n",
              "    <path d=\"M0 0h24v24H0V0z\" fill=\"none\"/>\n",
              "    <path d=\"M18.56 5.44l.94 2.06.94-2.06 2.06-.94-2.06-.94-.94-2.06-.94 2.06-2.06.94zm-11 1L8.5 8.5l.94-2.06 2.06-.94-2.06-.94L8.5 2.5l-.94 2.06-2.06.94zm10 10l.94 2.06.94-2.06 2.06-.94-2.06-.94-.94-2.06-.94 2.06-2.06.94z\"/><path d=\"M17.41 7.96l-1.37-1.37c-.4-.4-.92-.59-1.43-.59-.52 0-1.04.2-1.43.59L10.3 9.45l-7.72 7.72c-.78.78-.78 2.05 0 2.83L4 21.41c.39.39.9.59 1.41.59.51 0 1.02-.2 1.41-.59l7.78-7.78 2.81-2.81c.8-.78.8-2.07 0-2.86zM5.41 20L4 18.59l7.72-7.72 1.47 1.35L5.41 20z\"/>\n",
              "  </svg>\n",
              "      </button>\n",
              "      \n",
              "  <style>\n",
              "    .colab-df-container {\n",
              "      display:flex;\n",
              "      flex-wrap:wrap;\n",
              "      gap: 12px;\n",
              "    }\n",
              "\n",
              "    .colab-df-convert {\n",
              "      background-color: #E8F0FE;\n",
              "      border: none;\n",
              "      border-radius: 50%;\n",
              "      cursor: pointer;\n",
              "      display: none;\n",
              "      fill: #1967D2;\n",
              "      height: 32px;\n",
              "      padding: 0 0 0 0;\n",
              "      width: 32px;\n",
              "    }\n",
              "\n",
              "    .colab-df-convert:hover {\n",
              "      background-color: #E2EBFA;\n",
              "      box-shadow: 0px 1px 2px rgba(60, 64, 67, 0.3), 0px 1px 3px 1px rgba(60, 64, 67, 0.15);\n",
              "      fill: #174EA6;\n",
              "    }\n",
              "\n",
              "    [theme=dark] .colab-df-convert {\n",
              "      background-color: #3B4455;\n",
              "      fill: #D2E3FC;\n",
              "    }\n",
              "\n",
              "    [theme=dark] .colab-df-convert:hover {\n",
              "      background-color: #434B5C;\n",
              "      box-shadow: 0px 1px 3px 1px rgba(0, 0, 0, 0.15);\n",
              "      filter: drop-shadow(0px 1px 2px rgba(0, 0, 0, 0.3));\n",
              "      fill: #FFFFFF;\n",
              "    }\n",
              "  </style>\n",
              "\n",
              "      <script>\n",
              "        const buttonEl =\n",
              "          document.querySelector('#df-70f17441-68d2-4d39-b2c3-871cea70e06b button.colab-df-convert');\n",
              "        buttonEl.style.display =\n",
              "          google.colab.kernel.accessAllowed ? 'block' : 'none';\n",
              "\n",
              "        async function convertToInteractive(key) {\n",
              "          const element = document.querySelector('#df-70f17441-68d2-4d39-b2c3-871cea70e06b');\n",
              "          const dataTable =\n",
              "            await google.colab.kernel.invokeFunction('convertToInteractive',\n",
              "                                                     [key], {});\n",
              "          if (!dataTable) return;\n",
              "\n",
              "          const docLinkHtml = 'Like what you see? Visit the ' +\n",
              "            '<a target=\"_blank\" href=https://colab.research.google.com/notebooks/data_table.ipynb>data table notebook</a>'\n",
              "            + ' to learn more about interactive tables.';\n",
              "          element.innerHTML = '';\n",
              "          dataTable['output_type'] = 'display_data';\n",
              "          await google.colab.output.renderOutput(dataTable, element);\n",
              "          const docLink = document.createElement('div');\n",
              "          docLink.innerHTML = docLinkHtml;\n",
              "          element.appendChild(docLink);\n",
              "        }\n",
              "      </script>\n",
              "    </div>\n",
              "  </div>\n",
              "  "
            ]
          },
          "metadata": {},
          "execution_count": 42
        }
      ]
    },
    {
      "cell_type": "markdown",
      "source": [
        "## NLP - WIP"
      ],
      "metadata": {
        "id": "3HPX04zWR7UP"
      }
    },
    {
      "cell_type": "code",
      "source": [
        "# Create the newsapi client\n",
        "# newsapi = NewsApiClient(api_key=api_key)"
      ],
      "metadata": {
        "id": "S4gy89MjOWuQ"
      },
      "execution_count": 16,
      "outputs": []
    },
    {
      "cell_type": "code",
      "source": [
        "news_url = \"https://free-news.p.rapidapi.com/v1/search\""
      ],
      "metadata": {
        "id": "H2WJexCIXB6E"
      },
      "execution_count": 49,
      "outputs": []
    },
    {
      "cell_type": "code",
      "source": [
        "search_start_date = \"2012-06-08\""
      ],
      "metadata": {
        "id": "gAws4IuLJzV8"
      },
      "execution_count": 70,
      "outputs": []
    },
    {
      "cell_type": "code",
      "source": [
        "news_querystring = {\"q\":\"Platinum\",\"lang\":\"en\",\"from\":search_start_date}"
      ],
      "metadata": {
        "id": "XrDowryaXJSu"
      },
      "execution_count": 71,
      "outputs": []
    },
    {
      "cell_type": "code",
      "source": [
        "headers = {\n",
        "\t\"X-RapidAPI-Key\": free_news_api_key,\n",
        "\t\"X-RapidAPI-Host\": \"free-news.p.rapidapi.com\"\n",
        "}"
      ],
      "metadata": {
        "id": "Xs7rKGmFXQLV"
      },
      "execution_count": 47,
      "outputs": []
    },
    {
      "cell_type": "code",
      "source": [
        "free_news_resp = requests.request(\"GET\", news_url, headers=headers, params=news_querystring)"
      ],
      "metadata": {
        "id": "uvJ5XZR-Y5SR"
      },
      "execution_count": 72,
      "outputs": []
    },
    {
      "cell_type": "code",
      "source": [
        "free_news_en = free_news_resp.json()"
      ],
      "metadata": {
        "id": "-1zXqSu3ZY8J"
      },
      "execution_count": 73,
      "outputs": []
    },
    {
      "cell_type": "code",
      "source": [
        "# free_news_df = pd.read_json(free_news_en.articles)\n",
        "\n",
        "# free_news_df.head()"
      ],
      "metadata": {
        "id": "LdW2322PZv2R"
      },
      "execution_count": 65,
      "outputs": []
    },
    {
      "cell_type": "code",
      "source": [
        "# Download/Update the VADER Lexicon\n",
        "nltk.download(\"vader_lexicon\")\n",
        "\n",
        "# Initialize the VADER sentiment analyzer\n",
        "analyzer = SentimentIntensityAnalyzer()"
      ],
      "metadata": {
        "colab": {
          "base_uri": "https://localhost:8080/"
        },
        "id": "3ycnXYPwhbJY",
        "outputId": "f6c07ec5-df58-4695-de25-28fcd810a6ab"
      },
      "execution_count": 28,
      "outputs": [
        {
          "output_type": "stream",
          "name": "stdout",
          "text": [
            "[nltk_data] Downloading package vader_lexicon to /root/nltk_data...\n",
            "[nltk_data]   Package vader_lexicon is already up-to-date!\n"
          ]
        }
      ]
    },
    {
      "cell_type": "code",
      "source": [
        "# news_en = newsapi.get_everything(\n",
        "#     q=\"platinum\",\n",
        "#     language=\"en\",\n",
        "#     from_param=search_start_date\n",
        "# )\n",
        "\n",
        "# # Show the total number of news\n",
        "# news_en[\"totalResults\"]"
      ],
      "metadata": {
        "colab": {
          "base_uri": "https://localhost:8080/"
        },
        "id": "p4KphmR_giXd",
        "outputId": "17b6e718-e889-4c11-85ad-67f2ac040a5d"
      },
      "execution_count": 18,
      "outputs": [
        {
          "output_type": "execute_result",
          "data": {
            "text/plain": [
              "11049"
            ]
          },
          "metadata": {},
          "execution_count": 18
        }
      ]
    },
    {
      "cell_type": "code",
      "source": [
        "# Function to create a dataframe for news\n",
        "def create_df(news):\n",
        "    articles = []\n",
        "    for article in news:\n",
        "        try:\n",
        "            title = article[\"title\"]\n",
        "            description = article[\"topic\"]\n",
        "            text = article[\"summary\"]\n",
        "            date = article[\"published_date\"][:10]\n",
        "\n",
        "            articles.append({\n",
        "                \"title\": title,\n",
        "                \"description\": description,\n",
        "                \"text\": text,\n",
        "                \"date\": date\n",
        "            })\n",
        "        except AttributeError:\n",
        "            pass\n",
        "\n",
        "    return pd.DataFrame(articles)"
      ],
      "metadata": {
        "id": "u-liSKP8g3-k"
      },
      "execution_count": 66,
      "outputs": []
    },
    {
      "cell_type": "code",
      "source": [
        "# Sentiment calculation based on compound score\n",
        "def get_sentiment(score):\n",
        "    \"\"\"\n",
        "    Calculates the sentiment based on the compound score.\n",
        "    \"\"\"\n",
        "    result = 0  # Neutral by default\n",
        "    if score >= 0.05:  # Positive\n",
        "        result = 1\n",
        "    elif score <= -0.05:  # Negative\n",
        "        result = -1\n",
        "\n",
        "    return result"
      ],
      "metadata": {
        "id": "N9BbjQ5misgi"
      },
      "execution_count": 24,
      "outputs": []
    },
    {
      "cell_type": "code",
      "source": [
        "free_news_en"
      ],
      "metadata": {
        "colab": {
          "base_uri": "https://localhost:8080/"
        },
        "id": "mL2t17JbeJ_u",
        "outputId": "521b9820-b017-4cf1-c3e8-cc14fd37b83e"
      },
      "execution_count": 76,
      "outputs": [
        {
          "output_type": "execute_result",
          "data": {
            "text/plain": [
              "{'error_code': 'UnsupportedParameter',\n",
              " 'message': \"Apply to be a contributor (https://free-docs.newscatcherapi.com/#contributors) in order to filter on these parameters['from']\",\n",
              " 'status': 'error'}"
            ]
          },
          "metadata": {},
          "execution_count": 76
        }
      ]
    },
    {
      "cell_type": "code",
      "source": [
        "free_news_df = create_df(free_news_en[\"articles\"])"
      ],
      "metadata": {
        "colab": {
          "base_uri": "https://localhost:8080/",
          "height": 166
        },
        "id": "4TU79oGGdNc4",
        "outputId": "294e05e9-d8e1-4470-c08d-511b860fc839"
      },
      "execution_count": 74,
      "outputs": [
        {
          "output_type": "error",
          "ename": "KeyError",
          "evalue": "ignored",
          "traceback": [
            "\u001b[0;31m---------------------------------------------------------------------------\u001b[0m",
            "\u001b[0;31mKeyError\u001b[0m                                  Traceback (most recent call last)",
            "\u001b[0;32m<ipython-input-74-41c4fd98045c>\u001b[0m in \u001b[0;36m<module>\u001b[0;34m()\u001b[0m\n\u001b[0;32m----> 1\u001b[0;31m \u001b[0mfree_news_df\u001b[0m \u001b[0;34m=\u001b[0m \u001b[0mcreate_df\u001b[0m\u001b[0;34m(\u001b[0m\u001b[0mfree_news_en\u001b[0m\u001b[0;34m[\u001b[0m\u001b[0;34m\"articles\"\u001b[0m\u001b[0;34m]\u001b[0m\u001b[0;34m)\u001b[0m\u001b[0;34m\u001b[0m\u001b[0;34m\u001b[0m\u001b[0m\n\u001b[0m",
            "\u001b[0;31mKeyError\u001b[0m: 'articles'"
          ]
        }
      ]
    },
    {
      "cell_type": "code",
      "source": [
        "free_news_df.tail()"
      ],
      "metadata": {
        "colab": {
          "base_uri": "https://localhost:8080/",
          "height": 206
        },
        "id": "VgtvkQ2JdZhF",
        "outputId": "22632ead-379f-47db-cefc-6346b8904750"
      },
      "execution_count": 69,
      "outputs": [
        {
          "output_type": "execute_result",
          "data": {
            "text/plain": [
              "                                                title description  \\\n",
              "20  Photos show how royal fans dressed to the nine...        news   \n",
              "21  Princesses Beatrice and Eugenie's Platinum Jub...        news   \n",
              "22  Princess Eugenie's 1-year-old son gave Prince ...        news   \n",
              "23  Alicia Keys Shares Details of Platinum Jubilee...        news   \n",
              "24          Unseen Kate Middleton moment melts hearts        news   \n",
              "\n",
              "                                                 text        date  \n",
              "20  Royal fans across the UK used the Union Jack a...  2022-06-06  \n",
              "21  Published: 09:15 EDT, 6 June 2022 | Updated: 0...  2022-06-06  \n",
              "22  August Brooksbank, the son of Princess Eugenie...  2022-06-06  \n",
              "23  Alicia Keys performs during the BBC Platinum P...  2022-06-07  \n",
              "24  Prince Louis wasn't the only royal who needed ...  2022-06-07  "
            ],
            "text/html": [
              "\n",
              "  <div id=\"df-24dbdfc6-8302-4c2a-aa6f-a555ba7a8479\">\n",
              "    <div class=\"colab-df-container\">\n",
              "      <div>\n",
              "<style scoped>\n",
              "    .dataframe tbody tr th:only-of-type {\n",
              "        vertical-align: middle;\n",
              "    }\n",
              "\n",
              "    .dataframe tbody tr th {\n",
              "        vertical-align: top;\n",
              "    }\n",
              "\n",
              "    .dataframe thead th {\n",
              "        text-align: right;\n",
              "    }\n",
              "</style>\n",
              "<table border=\"1\" class=\"dataframe\">\n",
              "  <thead>\n",
              "    <tr style=\"text-align: right;\">\n",
              "      <th></th>\n",
              "      <th>title</th>\n",
              "      <th>description</th>\n",
              "      <th>text</th>\n",
              "      <th>date</th>\n",
              "    </tr>\n",
              "  </thead>\n",
              "  <tbody>\n",
              "    <tr>\n",
              "      <th>20</th>\n",
              "      <td>Photos show how royal fans dressed to the nine...</td>\n",
              "      <td>news</td>\n",
              "      <td>Royal fans across the UK used the Union Jack a...</td>\n",
              "      <td>2022-06-06</td>\n",
              "    </tr>\n",
              "    <tr>\n",
              "      <th>21</th>\n",
              "      <td>Princesses Beatrice and Eugenie's Platinum Jub...</td>\n",
              "      <td>news</td>\n",
              "      <td>Published: 09:15 EDT, 6 June 2022 | Updated: 0...</td>\n",
              "      <td>2022-06-06</td>\n",
              "    </tr>\n",
              "    <tr>\n",
              "      <th>22</th>\n",
              "      <td>Princess Eugenie's 1-year-old son gave Prince ...</td>\n",
              "      <td>news</td>\n",
              "      <td>August Brooksbank, the son of Princess Eugenie...</td>\n",
              "      <td>2022-06-06</td>\n",
              "    </tr>\n",
              "    <tr>\n",
              "      <th>23</th>\n",
              "      <td>Alicia Keys Shares Details of Platinum Jubilee...</td>\n",
              "      <td>news</td>\n",
              "      <td>Alicia Keys performs during the BBC Platinum P...</td>\n",
              "      <td>2022-06-07</td>\n",
              "    </tr>\n",
              "    <tr>\n",
              "      <th>24</th>\n",
              "      <td>Unseen Kate Middleton moment melts hearts</td>\n",
              "      <td>news</td>\n",
              "      <td>Prince Louis wasn't the only royal who needed ...</td>\n",
              "      <td>2022-06-07</td>\n",
              "    </tr>\n",
              "  </tbody>\n",
              "</table>\n",
              "</div>\n",
              "      <button class=\"colab-df-convert\" onclick=\"convertToInteractive('df-24dbdfc6-8302-4c2a-aa6f-a555ba7a8479')\"\n",
              "              title=\"Convert this dataframe to an interactive table.\"\n",
              "              style=\"display:none;\">\n",
              "        \n",
              "  <svg xmlns=\"http://www.w3.org/2000/svg\" height=\"24px\"viewBox=\"0 0 24 24\"\n",
              "       width=\"24px\">\n",
              "    <path d=\"M0 0h24v24H0V0z\" fill=\"none\"/>\n",
              "    <path d=\"M18.56 5.44l.94 2.06.94-2.06 2.06-.94-2.06-.94-.94-2.06-.94 2.06-2.06.94zm-11 1L8.5 8.5l.94-2.06 2.06-.94-2.06-.94L8.5 2.5l-.94 2.06-2.06.94zm10 10l.94 2.06.94-2.06 2.06-.94-2.06-.94-.94-2.06-.94 2.06-2.06.94z\"/><path d=\"M17.41 7.96l-1.37-1.37c-.4-.4-.92-.59-1.43-.59-.52 0-1.04.2-1.43.59L10.3 9.45l-7.72 7.72c-.78.78-.78 2.05 0 2.83L4 21.41c.39.39.9.59 1.41.59.51 0 1.02-.2 1.41-.59l7.78-7.78 2.81-2.81c.8-.78.8-2.07 0-2.86zM5.41 20L4 18.59l7.72-7.72 1.47 1.35L5.41 20z\"/>\n",
              "  </svg>\n",
              "      </button>\n",
              "      \n",
              "  <style>\n",
              "    .colab-df-container {\n",
              "      display:flex;\n",
              "      flex-wrap:wrap;\n",
              "      gap: 12px;\n",
              "    }\n",
              "\n",
              "    .colab-df-convert {\n",
              "      background-color: #E8F0FE;\n",
              "      border: none;\n",
              "      border-radius: 50%;\n",
              "      cursor: pointer;\n",
              "      display: none;\n",
              "      fill: #1967D2;\n",
              "      height: 32px;\n",
              "      padding: 0 0 0 0;\n",
              "      width: 32px;\n",
              "    }\n",
              "\n",
              "    .colab-df-convert:hover {\n",
              "      background-color: #E2EBFA;\n",
              "      box-shadow: 0px 1px 2px rgba(60, 64, 67, 0.3), 0px 1px 3px 1px rgba(60, 64, 67, 0.15);\n",
              "      fill: #174EA6;\n",
              "    }\n",
              "\n",
              "    [theme=dark] .colab-df-convert {\n",
              "      background-color: #3B4455;\n",
              "      fill: #D2E3FC;\n",
              "    }\n",
              "\n",
              "    [theme=dark] .colab-df-convert:hover {\n",
              "      background-color: #434B5C;\n",
              "      box-shadow: 0px 1px 3px 1px rgba(0, 0, 0, 0.15);\n",
              "      filter: drop-shadow(0px 1px 2px rgba(0, 0, 0, 0.3));\n",
              "      fill: #FFFFFF;\n",
              "    }\n",
              "  </style>\n",
              "\n",
              "      <script>\n",
              "        const buttonEl =\n",
              "          document.querySelector('#df-24dbdfc6-8302-4c2a-aa6f-a555ba7a8479 button.colab-df-convert');\n",
              "        buttonEl.style.display =\n",
              "          google.colab.kernel.accessAllowed ? 'block' : 'none';\n",
              "\n",
              "        async function convertToInteractive(key) {\n",
              "          const element = document.querySelector('#df-24dbdfc6-8302-4c2a-aa6f-a555ba7a8479');\n",
              "          const dataTable =\n",
              "            await google.colab.kernel.invokeFunction('convertToInteractive',\n",
              "                                                     [key], {});\n",
              "          if (!dataTable) return;\n",
              "\n",
              "          const docLinkHtml = 'Like what you see? Visit the ' +\n",
              "            '<a target=\"_blank\" href=https://colab.research.google.com/notebooks/data_table.ipynb>data table notebook</a>'\n",
              "            + ' to learn more about interactive tables.';\n",
              "          element.innerHTML = '';\n",
              "          dataTable['output_type'] = 'display_data';\n",
              "          await google.colab.output.renderOutput(dataTable, element);\n",
              "          const docLink = document.createElement('div');\n",
              "          docLink.innerHTML = docLinkHtml;\n",
              "          element.appendChild(docLink);\n",
              "        }\n",
              "      </script>\n",
              "    </div>\n",
              "  </div>\n",
              "  "
            ]
          },
          "metadata": {},
          "execution_count": 69
        }
      ]
    },
    {
      "cell_type": "code",
      "source": [
        "# platinum_news_df = create_df(news_en[\"articles\"])\n",
        "\n",
        "# platinum_news_df.head()"
      ],
      "metadata": {
        "colab": {
          "base_uri": "https://localhost:8080/",
          "height": 206
        },
        "id": "XaoIm1KOhCDG",
        "outputId": "1d953683-5148-4792-d13f-eb82869508fb"
      },
      "execution_count": 38,
      "outputs": [
        {
          "output_type": "execute_result",
          "data": {
            "text/plain": [
              "                                               title  \\\n",
              "0  Quiz of the week: What's in the Platinum Jubil...   \n",
              "1  Platinum Jubilee: Festivities continue with Pa...   \n",
              "2  Who's who in the House of Windsor: Queen Eliza...   \n",
              "3  Russia risks speed up automakers' switch from ...   \n",
              "4  Platinum Jubilee: Who is on - and off - the wo...   \n",
              "\n",
              "                                         description  \\\n",
              "0  How closely have you been paying attention to ...   \n",
              "1  The star-studded concert will also see Prince ...   \n",
              "2  Britain's Queen Elizabeth II appeared Thursday...   \n",
              "3  Automakers are accelerating efforts to use les...   \n",
              "4  The Queen is due to appear on the balcony of B...   \n",
              "\n",
              "                                                text        date  \n",
              "0  It's the weekly news quiz - how closely have y...  2022-05-19  \n",
              "1  By James ClarkeBBC News\\r\\nImage caption, The ...  2022-06-04  \n",
              "2  By CNN Staff\\r\\nUpdated 1:19 PM ET, Thu June 2...  2022-06-02  \n",
              "3  LONDON, May 16 (Reuters) - Automakers are acce...  2022-05-15  \n",
              "4  By Sean CoughlanRoyal correspondent\\r\\nImage s...  2022-05-31  "
            ],
            "text/html": [
              "\n",
              "  <div id=\"df-2ade1605-9430-4101-8ba3-86e8d74eaa4b\">\n",
              "    <div class=\"colab-df-container\">\n",
              "      <div>\n",
              "<style scoped>\n",
              "    .dataframe tbody tr th:only-of-type {\n",
              "        vertical-align: middle;\n",
              "    }\n",
              "\n",
              "    .dataframe tbody tr th {\n",
              "        vertical-align: top;\n",
              "    }\n",
              "\n",
              "    .dataframe thead th {\n",
              "        text-align: right;\n",
              "    }\n",
              "</style>\n",
              "<table border=\"1\" class=\"dataframe\">\n",
              "  <thead>\n",
              "    <tr style=\"text-align: right;\">\n",
              "      <th></th>\n",
              "      <th>title</th>\n",
              "      <th>description</th>\n",
              "      <th>text</th>\n",
              "      <th>date</th>\n",
              "    </tr>\n",
              "  </thead>\n",
              "  <tbody>\n",
              "    <tr>\n",
              "      <th>0</th>\n",
              "      <td>Quiz of the week: What's in the Platinum Jubil...</td>\n",
              "      <td>How closely have you been paying attention to ...</td>\n",
              "      <td>It's the weekly news quiz - how closely have y...</td>\n",
              "      <td>2022-05-19</td>\n",
              "    </tr>\n",
              "    <tr>\n",
              "      <th>1</th>\n",
              "      <td>Platinum Jubilee: Festivities continue with Pa...</td>\n",
              "      <td>The star-studded concert will also see Prince ...</td>\n",
              "      <td>By James ClarkeBBC News\\r\\nImage caption, The ...</td>\n",
              "      <td>2022-06-04</td>\n",
              "    </tr>\n",
              "    <tr>\n",
              "      <th>2</th>\n",
              "      <td>Who's who in the House of Windsor: Queen Eliza...</td>\n",
              "      <td>Britain's Queen Elizabeth II appeared Thursday...</td>\n",
              "      <td>By CNN Staff\\r\\nUpdated 1:19 PM ET, Thu June 2...</td>\n",
              "      <td>2022-06-02</td>\n",
              "    </tr>\n",
              "    <tr>\n",
              "      <th>3</th>\n",
              "      <td>Russia risks speed up automakers' switch from ...</td>\n",
              "      <td>Automakers are accelerating efforts to use les...</td>\n",
              "      <td>LONDON, May 16 (Reuters) - Automakers are acce...</td>\n",
              "      <td>2022-05-15</td>\n",
              "    </tr>\n",
              "    <tr>\n",
              "      <th>4</th>\n",
              "      <td>Platinum Jubilee: Who is on - and off - the wo...</td>\n",
              "      <td>The Queen is due to appear on the balcony of B...</td>\n",
              "      <td>By Sean CoughlanRoyal correspondent\\r\\nImage s...</td>\n",
              "      <td>2022-05-31</td>\n",
              "    </tr>\n",
              "  </tbody>\n",
              "</table>\n",
              "</div>\n",
              "      <button class=\"colab-df-convert\" onclick=\"convertToInteractive('df-2ade1605-9430-4101-8ba3-86e8d74eaa4b')\"\n",
              "              title=\"Convert this dataframe to an interactive table.\"\n",
              "              style=\"display:none;\">\n",
              "        \n",
              "  <svg xmlns=\"http://www.w3.org/2000/svg\" height=\"24px\"viewBox=\"0 0 24 24\"\n",
              "       width=\"24px\">\n",
              "    <path d=\"M0 0h24v24H0V0z\" fill=\"none\"/>\n",
              "    <path d=\"M18.56 5.44l.94 2.06.94-2.06 2.06-.94-2.06-.94-.94-2.06-.94 2.06-2.06.94zm-11 1L8.5 8.5l.94-2.06 2.06-.94-2.06-.94L8.5 2.5l-.94 2.06-2.06.94zm10 10l.94 2.06.94-2.06 2.06-.94-2.06-.94-.94-2.06-.94 2.06-2.06.94z\"/><path d=\"M17.41 7.96l-1.37-1.37c-.4-.4-.92-.59-1.43-.59-.52 0-1.04.2-1.43.59L10.3 9.45l-7.72 7.72c-.78.78-.78 2.05 0 2.83L4 21.41c.39.39.9.59 1.41.59.51 0 1.02-.2 1.41-.59l7.78-7.78 2.81-2.81c.8-.78.8-2.07 0-2.86zM5.41 20L4 18.59l7.72-7.72 1.47 1.35L5.41 20z\"/>\n",
              "  </svg>\n",
              "      </button>\n",
              "      \n",
              "  <style>\n",
              "    .colab-df-container {\n",
              "      display:flex;\n",
              "      flex-wrap:wrap;\n",
              "      gap: 12px;\n",
              "    }\n",
              "\n",
              "    .colab-df-convert {\n",
              "      background-color: #E8F0FE;\n",
              "      border: none;\n",
              "      border-radius: 50%;\n",
              "      cursor: pointer;\n",
              "      display: none;\n",
              "      fill: #1967D2;\n",
              "      height: 32px;\n",
              "      padding: 0 0 0 0;\n",
              "      width: 32px;\n",
              "    }\n",
              "\n",
              "    .colab-df-convert:hover {\n",
              "      background-color: #E2EBFA;\n",
              "      box-shadow: 0px 1px 2px rgba(60, 64, 67, 0.3), 0px 1px 3px 1px rgba(60, 64, 67, 0.15);\n",
              "      fill: #174EA6;\n",
              "    }\n",
              "\n",
              "    [theme=dark] .colab-df-convert {\n",
              "      background-color: #3B4455;\n",
              "      fill: #D2E3FC;\n",
              "    }\n",
              "\n",
              "    [theme=dark] .colab-df-convert:hover {\n",
              "      background-color: #434B5C;\n",
              "      box-shadow: 0px 1px 3px 1px rgba(0, 0, 0, 0.15);\n",
              "      filter: drop-shadow(0px 1px 2px rgba(0, 0, 0, 0.3));\n",
              "      fill: #FFFFFF;\n",
              "    }\n",
              "  </style>\n",
              "\n",
              "      <script>\n",
              "        const buttonEl =\n",
              "          document.querySelector('#df-2ade1605-9430-4101-8ba3-86e8d74eaa4b button.colab-df-convert');\n",
              "        buttonEl.style.display =\n",
              "          google.colab.kernel.accessAllowed ? 'block' : 'none';\n",
              "\n",
              "        async function convertToInteractive(key) {\n",
              "          const element = document.querySelector('#df-2ade1605-9430-4101-8ba3-86e8d74eaa4b');\n",
              "          const dataTable =\n",
              "            await google.colab.kernel.invokeFunction('convertToInteractive',\n",
              "                                                     [key], {});\n",
              "          if (!dataTable) return;\n",
              "\n",
              "          const docLinkHtml = 'Like what you see? Visit the ' +\n",
              "            '<a target=\"_blank\" href=https://colab.research.google.com/notebooks/data_table.ipynb>data table notebook</a>'\n",
              "            + ' to learn more about interactive tables.';\n",
              "          element.innerHTML = '';\n",
              "          dataTable['output_type'] = 'display_data';\n",
              "          await google.colab.output.renderOutput(dataTable, element);\n",
              "          const docLink = document.createElement('div');\n",
              "          docLink.innerHTML = docLinkHtml;\n",
              "          element.appendChild(docLink);\n",
              "        }\n",
              "      </script>\n",
              "    </div>\n",
              "  </div>\n",
              "  "
            ]
          },
          "metadata": {},
          "execution_count": 38
        }
      ]
    },
    {
      "cell_type": "code",
      "source": [
        "# Sentiment scores dictionaries\n",
        "title_sent = {\n",
        "    \"title_sent\": [],\n",
        "}\n",
        "text_sent = {\n",
        "    \"text_sent\": [],\n",
        "}\n",
        "\n",
        "# Get sentiment for the text and the title\n",
        "for index, row in platinum_news_df.iterrows():\n",
        "    try:\n",
        "        # Sentiment scoring with VADER\n",
        "        title_sentiment = analyzer.polarity_scores(row[\"title\"])\n",
        "        title_sent[\"title_sent\"].append(get_sentiment(title_sentiment[\"compound\"]))\n",
        "\n",
        "        text_sentiment = analyzer.polarity_scores(row[\"text\"])\n",
        "        text_sent[\"text_sent\"].append(get_sentiment(text_sentiment[\"compound\"]))\n",
        "    except AttributeError:\n",
        "        pass\n",
        "\n",
        "# Attaching sentiment columns to the News DataFrame\n",
        "title_sentiment_df = pd.DataFrame(title_sent)\n",
        "text_sentiment_df = pd.DataFrame(text_sent)\n",
        "platinum_news_df = platinum_news_df.join(title_sentiment_df).join(text_sentiment_df)\n",
        "platinum_news_df = platinum_news_df.drop(columns=[\"description\"],axis=1)\n",
        "platinum_news_df.set_index('date',inplace=True)\n",
        "platinum_news_df.sort_index(inplace=True)\n",
        "\n",
        "platinum_news_df.head()"
      ],
      "metadata": {
        "colab": {
          "base_uri": "https://localhost:8080/",
          "height": 236
        },
        "id": "3e9lQwtPi9pT",
        "outputId": "03efdc38-afee-41d1-e633-5048457532ca"
      },
      "execution_count": 85,
      "outputs": [
        {
          "output_type": "error",
          "ename": "NameError",
          "evalue": "ignored",
          "traceback": [
            "\u001b[0;31m---------------------------------------------------------------------------\u001b[0m",
            "\u001b[0;31mNameError\u001b[0m                                 Traceback (most recent call last)",
            "\u001b[0;32m<ipython-input-85-31b6ff086f96>\u001b[0m in \u001b[0;36m<module>\u001b[0;34m()\u001b[0m\n\u001b[1;32m      8\u001b[0m \u001b[0;34m\u001b[0m\u001b[0m\n\u001b[1;32m      9\u001b[0m \u001b[0;31m# Get sentiment for the text and the title\u001b[0m\u001b[0;34m\u001b[0m\u001b[0;34m\u001b[0m\u001b[0;34m\u001b[0m\u001b[0m\n\u001b[0;32m---> 10\u001b[0;31m \u001b[0;32mfor\u001b[0m \u001b[0mindex\u001b[0m\u001b[0;34m,\u001b[0m \u001b[0mrow\u001b[0m \u001b[0;32min\u001b[0m \u001b[0mplatinum_news_df\u001b[0m\u001b[0;34m.\u001b[0m\u001b[0miterrows\u001b[0m\u001b[0;34m(\u001b[0m\u001b[0;34m)\u001b[0m\u001b[0;34m:\u001b[0m\u001b[0;34m\u001b[0m\u001b[0;34m\u001b[0m\u001b[0m\n\u001b[0m\u001b[1;32m     11\u001b[0m     \u001b[0;32mtry\u001b[0m\u001b[0;34m:\u001b[0m\u001b[0;34m\u001b[0m\u001b[0;34m\u001b[0m\u001b[0m\n\u001b[1;32m     12\u001b[0m         \u001b[0;31m# Sentiment scoring with VADER\u001b[0m\u001b[0;34m\u001b[0m\u001b[0;34m\u001b[0m\u001b[0;34m\u001b[0m\u001b[0m\n",
            "\u001b[0;31mNameError\u001b[0m: name 'platinum_news_df' is not defined"
          ]
        }
      ]
    },
    {
      "cell_type": "code",
      "source": [
        "del(platinum_news_df)"
      ],
      "metadata": {
        "id": "RnHBxxfEjprz"
      },
      "execution_count": 84,
      "outputs": []
    },
    {
      "cell_type": "code",
      "source": [
        "get_sharpe_ratios(platinum_df,\"platinum\")"
      ],
      "metadata": {
        "colab": {
          "base_uri": "https://localhost:8080/"
        },
        "id": "rRHeB-3Nta6J",
        "outputId": "2a2deb4b-1c06-4364-aace-86e7843a28d3"
      },
      "execution_count": 105,
      "outputs": [
        {
          "output_type": "execute_result",
          "data": {
            "text/plain": [
              "0.2378782076237487"
            ]
          },
          "metadata": {},
          "execution_count": 105
        }
      ]
    },
    {
      "cell_type": "markdown",
      "source": [
        "## Continued"
      ],
      "metadata": {
        "id": "wH__YMhOSMpb"
      }
    },
    {
      "cell_type": "markdown",
      "source": [
        "## Apply RNN"
      ],
      "metadata": {
        "id": "m3Z5GN8sUm-n"
      }
    },
    {
      "cell_type": "code",
      "source": [
        "# complie and fit LSTM RNN\n",
        "\n",
        "def compile_fit_RNN_model(X_train,y_train,number_units,dropout_fraction,optimizer,loss,epochs,batch_size,verbose):\n",
        "  \n",
        "  #prepare inputs\n",
        "  X_train = X_train.reshape((X_train.shape[0], X_train.shape[1], 1))\n",
        "  y_train = y_train.values\n",
        "  \n",
        "  # Define the LSTM RNN model.\n",
        "  model = Sequential()\n",
        "\n",
        "  number_units = number_units\n",
        "  dropout_fraction = dropout_fraction\n",
        "\n",
        "  # Layer 1\n",
        "  model.add(LSTM(\n",
        "      units=number_units,\n",
        "      return_sequences=True,\n",
        "      input_shape=(X_train.shape[1], 1))\n",
        "      )\n",
        "  model.add(Dropout(dropout_fraction))\n",
        "  # Layer 2\n",
        "  model.add(LSTM(units=number_units, return_sequences=True))\n",
        "  model.add(Dropout(dropout_fraction))\n",
        "  # Layer 3\n",
        "  model.add(LSTM(units=number_units))\n",
        "  model.add(Dropout(dropout_fraction))\n",
        "  # Output layer\n",
        "  model.add(Dense(1))\n",
        "\n",
        "  # Compile the model\n",
        "  model.compile(optimizer=optimizer, loss=loss)\n",
        "\n",
        "  # Train the model\n",
        "  model.fit(X_train, y_train, epochs=epochs, shuffle=False, batch_size=batch_size, verbose=verbose)\n",
        "\n",
        "  return model"
      ],
      "metadata": {
        "id": "vo-91ZRD1YRV"
      },
      "execution_count": 59,
      "outputs": []
    },
    {
      "cell_type": "code",
      "source": [
        "# evalute and make predictions with models\n",
        "\n",
        "def evalute_predict_RNN_model(model,X_test, y_test,df):\n",
        "\n",
        "  #reshape x_test\n",
        "  X_test = X_test.reshape((X_test.shape[0], X_test.shape[1], 1))\n",
        "  y_test = y_test.values.reshape(-1, 1)\n",
        "\n",
        "  # Evaluate the model\n",
        "  model_eval = model.evaluate(X_test, y_test)\n",
        "\n",
        "  # Make some predictions\n",
        "  model_predicted = model.predict(X_test)\n",
        "\n",
        "  # Create a DataFrame of Real and Predicted values\n",
        "  stocks = pd.DataFrame({\n",
        "      \"Actual\": y_test.ravel(),\n",
        "      \"Predicted\": model_predicted.ravel()\n",
        "  }, index = df.index[-len(y_test): ]) \n",
        "\n",
        "  return (model_eval,model_predicted,stocks)"
      ],
      "metadata": {
        "id": "d5K-NOm74QdA"
      },
      "execution_count": 66,
      "outputs": []
    },
    {
      "cell_type": "code",
      "source": [
        "bllg_RNN_model = compile_fit_RNN_model(X_train_scaled,y_train,20,0.2,\"opt\",\"categorical_crossentropy\",50,1,1)"
      ],
      "metadata": {
        "colab": {
          "base_uri": "https://localhost:8080/",
          "height": 329
        },
        "id": "31LgPqid7cRI",
        "outputId": "52083f2b-a575-4daf-f82d-8469adb7612f"
      },
      "execution_count": 71,
      "outputs": [
        {
          "output_type": "error",
          "ename": "ValueError",
          "evalue": "ignored",
          "traceback": [
            "\u001b[0;31m---------------------------------------------------------------------------\u001b[0m",
            "\u001b[0;31mValueError\u001b[0m                                Traceback (most recent call last)",
            "\u001b[0;32m<ipython-input-71-cb8c26d52c89>\u001b[0m in \u001b[0;36m<module>\u001b[0;34m()\u001b[0m\n\u001b[0;32m----> 1\u001b[0;31m \u001b[0mbllg_RNN_model\u001b[0m \u001b[0;34m=\u001b[0m \u001b[0mcompile_fit_RNN_model\u001b[0m\u001b[0;34m(\u001b[0m\u001b[0mX_train_scaled\u001b[0m\u001b[0;34m,\u001b[0m\u001b[0my_train\u001b[0m\u001b[0;34m,\u001b[0m\u001b[0;36m20\u001b[0m\u001b[0;34m,\u001b[0m\u001b[0;36m0.2\u001b[0m\u001b[0;34m,\u001b[0m\u001b[0;34m\"opt\"\u001b[0m\u001b[0;34m,\u001b[0m\u001b[0;34m\"categorical_crossentropy\"\u001b[0m\u001b[0;34m,\u001b[0m\u001b[0;36m50\u001b[0m\u001b[0;34m,\u001b[0m\u001b[0;36m1\u001b[0m\u001b[0;34m,\u001b[0m\u001b[0;36m1\u001b[0m\u001b[0;34m)\u001b[0m\u001b[0;34m\u001b[0m\u001b[0;34m\u001b[0m\u001b[0m\n\u001b[0m",
            "\u001b[0;32m<ipython-input-59-7b687b7aa73b>\u001b[0m in \u001b[0;36mcompile_fit_RNN_model\u001b[0;34m(X_train, y_train, number_units, dropout_fraction, optimizer, loss, epochs, batch_size, verbose)\u001b[0m\n\u001b[1;32m     30\u001b[0m \u001b[0;34m\u001b[0m\u001b[0m\n\u001b[1;32m     31\u001b[0m   \u001b[0;31m# Compile the model\u001b[0m\u001b[0;34m\u001b[0m\u001b[0;34m\u001b[0m\u001b[0;34m\u001b[0m\u001b[0m\n\u001b[0;32m---> 32\u001b[0;31m   \u001b[0mmodel\u001b[0m\u001b[0;34m.\u001b[0m\u001b[0mcompile\u001b[0m\u001b[0;34m(\u001b[0m\u001b[0moptimizer\u001b[0m\u001b[0;34m=\u001b[0m\u001b[0moptimizer\u001b[0m\u001b[0;34m,\u001b[0m \u001b[0mloss\u001b[0m\u001b[0;34m=\u001b[0m\u001b[0mloss\u001b[0m\u001b[0;34m)\u001b[0m\u001b[0;34m\u001b[0m\u001b[0;34m\u001b[0m\u001b[0m\n\u001b[0m\u001b[1;32m     33\u001b[0m \u001b[0;34m\u001b[0m\u001b[0m\n\u001b[1;32m     34\u001b[0m   \u001b[0;31m# Train the model\u001b[0m\u001b[0;34m\u001b[0m\u001b[0;34m\u001b[0m\u001b[0;34m\u001b[0m\u001b[0m\n",
            "\u001b[0;32m/usr/local/lib/python3.7/dist-packages/keras/utils/traceback_utils.py\u001b[0m in \u001b[0;36merror_handler\u001b[0;34m(*args, **kwargs)\u001b[0m\n\u001b[1;32m     65\u001b[0m     \u001b[0;32mexcept\u001b[0m \u001b[0mException\u001b[0m \u001b[0;32mas\u001b[0m \u001b[0me\u001b[0m\u001b[0;34m:\u001b[0m  \u001b[0;31m# pylint: disable=broad-except\u001b[0m\u001b[0;34m\u001b[0m\u001b[0;34m\u001b[0m\u001b[0m\n\u001b[1;32m     66\u001b[0m       \u001b[0mfiltered_tb\u001b[0m \u001b[0;34m=\u001b[0m \u001b[0m_process_traceback_frames\u001b[0m\u001b[0;34m(\u001b[0m\u001b[0me\u001b[0m\u001b[0;34m.\u001b[0m\u001b[0m__traceback__\u001b[0m\u001b[0;34m)\u001b[0m\u001b[0;34m\u001b[0m\u001b[0;34m\u001b[0m\u001b[0m\n\u001b[0;32m---> 67\u001b[0;31m       \u001b[0;32mraise\u001b[0m \u001b[0me\u001b[0m\u001b[0;34m.\u001b[0m\u001b[0mwith_traceback\u001b[0m\u001b[0;34m(\u001b[0m\u001b[0mfiltered_tb\u001b[0m\u001b[0;34m)\u001b[0m \u001b[0;32mfrom\u001b[0m \u001b[0;32mNone\u001b[0m\u001b[0;34m\u001b[0m\u001b[0;34m\u001b[0m\u001b[0m\n\u001b[0m\u001b[1;32m     68\u001b[0m     \u001b[0;32mfinally\u001b[0m\u001b[0;34m:\u001b[0m\u001b[0;34m\u001b[0m\u001b[0;34m\u001b[0m\u001b[0m\n\u001b[1;32m     69\u001b[0m       \u001b[0;32mdel\u001b[0m \u001b[0mfiltered_tb\u001b[0m\u001b[0;34m\u001b[0m\u001b[0;34m\u001b[0m\u001b[0m\n",
            "\u001b[0;32m/usr/local/lib/python3.7/dist-packages/keras/utils/generic_utils.py\u001b[0m in \u001b[0;36mclass_and_config_for_serialized_keras_object\u001b[0;34m(config, module_objects, custom_objects, printable_module_name)\u001b[0m\n\u001b[1;32m    561\u001b[0m   \u001b[0;32mif\u001b[0m \u001b[0mcls\u001b[0m \u001b[0;32mis\u001b[0m \u001b[0;32mNone\u001b[0m\u001b[0;34m:\u001b[0m\u001b[0;34m\u001b[0m\u001b[0;34m\u001b[0m\u001b[0m\n\u001b[1;32m    562\u001b[0m     raise ValueError(\n\u001b[0;32m--> 563\u001b[0;31m         \u001b[0;34mf'Unknown {printable_module_name}: {class_name}. Please ensure this '\u001b[0m\u001b[0;34m\u001b[0m\u001b[0;34m\u001b[0m\u001b[0m\n\u001b[0m\u001b[1;32m    564\u001b[0m         \u001b[0;34m'object is passed to the `custom_objects` argument. See '\u001b[0m\u001b[0;34m\u001b[0m\u001b[0;34m\u001b[0m\u001b[0m\n\u001b[1;32m    565\u001b[0m         \u001b[0;34m'https://www.tensorflow.org/guide/keras/save_and_serialize'\u001b[0m\u001b[0;34m\u001b[0m\u001b[0;34m\u001b[0m\u001b[0m\n",
            "\u001b[0;31mValueError\u001b[0m: Unknown optimizer: opt. Please ensure this object is passed to the `custom_objects` argument. See https://www.tensorflow.org/guide/keras/save_and_serialize#registering_the_custom_object for details."
          ]
        }
      ]
    },
    {
      "cell_type": "code",
      "source": [
        "bllg_RNN_model_eval, bllg_RNN_model_predicted, bllg_RNN_model_df = evalute_predict_RNN_model(bllg_RNN_model,X_train_scaled,y_train,bllg_platinum_df)"
      ],
      "metadata": {
        "colab": {
          "base_uri": "https://localhost:8080/"
        },
        "id": "Yq7aPN3sAGYv",
        "outputId": "086aad3f-975f-4c19-814b-ad98d7562ea0"
      },
      "execution_count": 67,
      "outputs": [
        {
          "output_type": "stream",
          "name": "stdout",
          "text": [
            "55/55 [==============================] - 2s 2ms/step - loss: 0.9989\n"
          ]
        }
      ]
    },
    {
      "cell_type": "code",
      "source": [
        "bllg_RNN_model_df.plot()"
      ],
      "metadata": {
        "colab": {
          "base_uri": "https://localhost:8080/",
          "height": 286
        },
        "id": "FxDfPZGJKrVs",
        "outputId": "e0dc9110-5294-4a61-ae16-8e800d333eb8"
      },
      "execution_count": 68,
      "outputs": [
        {
          "output_type": "execute_result",
          "data": {
            "text/plain": [
              "<matplotlib.axes._subplots.AxesSubplot at 0x7ff8b1e08250>"
            ]
          },
          "metadata": {},
          "execution_count": 68
        },
        {
          "output_type": "display_data",
          "data": {
            "text/plain": [
              "<Figure size 432x288 with 1 Axes>"
            ],
            "image/png": "[encoded data removed]"
          },
          "metadata": {
            "needs_background": "light"
          }
        }
      ]
    },
    {
      "cell_type": "code",
      "source": [
        "bllg_RNN_model_eval"
      ],
      "metadata": {
        "colab": {
          "base_uri": "https://localhost:8080/"
        },
        "id": "8Unp48UnK8sP",
        "outputId": "5da8503d-a768-4ed4-8bfc-c376e30abe3b"
      },
      "execution_count": 69,
      "outputs": [
        {
          "output_type": "execute_result",
          "data": {
            "text/plain": [
              "0.9989393353462219"
            ]
          },
          "metadata": {},
          "execution_count": 69
        }
      ]
    },
    {
      "cell_type": "code",
      "source": [
        "bllg_RNN_model_predicted[:5]"
      ],
      "metadata": {
        "colab": {
          "base_uri": "https://localhost:8080/"
        },
        "id": "94ZFzQxwLBfs",
        "outputId": "36ace693-c089-4856-cc2b-fb24d8bab73e"
      },
      "execution_count": 70,
      "outputs": [
        {
          "output_type": "execute_result",
          "data": {
            "text/plain": [
              "array([[0.00854546],\n",
              "       [0.00851739],\n",
              "       [0.00848729],\n",
              "       [0.00848674],\n",
              "       [0.00850751]], dtype=float32)"
            ]
          },
          "metadata": {},
          "execution_count": 70
        }
      ]
    },
    {
      "cell_type": "code",
      "source": [
        "X_train_scaled[:5]"
      ],
      "metadata": {
        "colab": {
          "base_uri": "https://localhost:8080/"
        },
        "id": "82EY7hc4ftna",
        "outputId": "7c1cf781-d0bc-4598-8b83-c1611fe8d4fb"
      },
      "execution_count": 50,
      "outputs": [
        {
          "output_type": "execute_result",
          "data": {
            "text/plain": [
              "array([[0.82986858, 0.73148549],\n",
              "       [0.83341479, 0.73181031],\n",
              "       [0.83708461, 0.73229753],\n",
              "       [0.8405072 , 0.72926592],\n",
              "       [0.8439607 , 0.7235275 ]])"
            ]
          },
          "metadata": {},
          "execution_count": 50
        }
      ]
    },
    {
      "cell_type": "code",
      "source": [
        "X_train_scaled.reshape((X_train.shape[0], X_train.shape[1], 1))"
      ],
      "metadata": {
        "colab": {
          "base_uri": "https://localhost:8080/"
        },
        "id": "gzr79Qvb0I78",
        "outputId": "c2307690-b5ef-4e47-89ae-611377bdb722"
      },
      "execution_count": 52,
      "outputs": [
        {
          "output_type": "execute_result",
          "data": {
            "text/plain": [
              "array([[[0.82986858],\n",
              "        [0.73148549]],\n",
              "\n",
              "       [[0.83341479],\n",
              "        [0.73181031]],\n",
              "\n",
              "       [[0.83708461],\n",
              "        [0.73229753]],\n",
              "\n",
              "       ...,\n",
              "\n",
              "       [[0.06240089],\n",
              "        [0.01855565]],\n",
              "\n",
              "       [[0.06369019],\n",
              "        [0.0196557 ]],\n",
              "\n",
              "       [[0.06491738],\n",
              "        [0.02017324]]])"
            ]
          },
          "metadata": {},
          "execution_count": 52
        }
      ]
    },
    {
      "cell_type": "code",
      "source": [
        "y_train.values[:5]"
      ],
      "metadata": {
        "colab": {
          "base_uri": "https://localhost:8080/"
        },
        "id": "3Go-c5Sx0-dx",
        "outputId": "bd3e8c42-2405-4b15-ebc9-21bdc1c7d41e"
      },
      "execution_count": 54,
      "outputs": [
        {
          "output_type": "execute_result",
          "data": {
            "text/plain": [
              "array([[-1.],\n",
              "       [-1.],\n",
              "       [-1.],\n",
              "       [-1.],\n",
              "       [ 1.]])"
            ]
          },
          "metadata": {},
          "execution_count": 54
        }
      ]
    },
    {
      "cell_type": "code",
      "source": [
        "# Define the LSTM RNN model.\n",
        "model = Sequential()\n",
        "\n",
        "number_units = 5\n",
        "dropout_fraction = 0.2\n",
        "\n",
        "# Layer 1\n",
        "model.add(LSTM(\n",
        "    units=number_units,\n",
        "    return_sequences=True,\n",
        "    input_shape=(X_train.shape[1], 1))\n",
        "    )\n",
        "model.add(Dropout(dropout_fraction))\n",
        "# Layer 2\n",
        "model.add(LSTM(units=number_units, return_sequences=True))\n",
        "model.add(Dropout(dropout_fraction))\n",
        "# Layer 3\n",
        "model.add(LSTM(units=number_units))\n",
        "model.add(Dropout(dropout_fraction))\n",
        "# Output layer\n",
        "model.add(Dense(1))"
      ],
      "metadata": {
        "id": "WPG3AR1Gx2D_"
      },
      "execution_count": null,
      "outputs": []
    }
  ]
}